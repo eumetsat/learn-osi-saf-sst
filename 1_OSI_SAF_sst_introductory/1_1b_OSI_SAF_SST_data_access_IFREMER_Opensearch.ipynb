{
 "cells": [
  {
   "cell_type": "markdown",
   "metadata": {},
   "source": [
    "<img src='https://gitlab.eumetsat.int/eumetlab/oceans/ocean-training/tools/frameworks/-/raw/main/img/OSI-SAF_banner.png' align='right' width='100%'/>"
   ]
  },
  {
   "cell_type": "markdown",
   "metadata": {},
   "source": [
    "<a href=\"../Index.ipynb\" target=\"_blank\"><< Index</a>\n",
    "<br>\n",
    "<a href=\"./1_1b_OSI_SAF_SST_data_access_IFREMER_FTP.ipynb\" target=\"_blank\"><< Accessing OSI SAF SST products through the IFREMER FTP server</a>&nbsp;&nbsp;&nbsp;&nbsp;&nbsp;<a href=\"./1_1c_OSI_SAF_SST_data_access_Eumetsat_data_store.ipynb\" target=\"_blank\">Accessing data through Eumetsat data store >></a>"
   ]
  },
  {
   "cell_type": "markdown",
   "metadata": {},
   "source": [
    "<font color=\"#138D75\">**EUMETSAT OSI SAF Training Service**</font> <br>\n",
    "**Copyright:** 2024 EUMETSAT <br>\n",
    "**License:** MIT"
   ]
  },
  {
   "cell_type": "markdown",
   "metadata": {},
   "source": [
    "<html>\n",
    "  <div style=\"width:100%\">\n",
    "    <div style=\"float:left\"><a href=\"https://mybinder.org/v2/git/https%3A%2F%2Fgitlab.eumetsat.int%2Feumetlab%2Foceans%2Focean-training%2Fsensors%2Flearn-osi-saf-sst/HEAD?labpath=1_OSI_SAF_sst_introductory%2F1_1a_OSI_SAF_SST_data_access_IFREMER_Opensearch.ipynb\"><img src=\"https://mybinder.org/badge_logo.svg\" alt=\"Open in Binder\"></a></div>\n",
    "    <div style=\"float:left\"><p>&emsp;</p></div>\n",
    "  </div>\n",
    "</html>"
   ]
  },
  {
   "cell_type": "markdown",
   "metadata": {},
   "source": [
    "<div class=\"alert alert-block alert-success\">\n",
    "<h3>Learn OSI SAF sea surface temperature: Introductory</h3></div>"
   ]
  },
  {
   "cell_type": "markdown",
   "metadata": {},
   "source": [
    "<div class=\"alert alert-block alert-warning\">\n",
    "    \n",
    "<b>PREREQUISITES </b>\n",
    "    \n",
    "This notebook has the following prerequisites:\n",
    "- **<a href=\"https://osi-saf.eumetsat.int/register\" target=\"_blank\">A EUMETSAT OSI SAF account</a>** if you are using or plan to use the EUMETSAT OSI SAF data.\n",
    "\n",
    "There are no prerequisite notebooks for this module.\n",
    "</div>\n",
    "<hr>"
   ]
  },
  {
   "cell_type": "markdown",
   "metadata": {
    "tags": []
   },
   "source": [
    "# 1.1b Accessing Metop SST granule data through IFREMER opensearch queries\n",
    "### Data used \n",
    "\n",
    "| Dataset | EUMETSAT collection ID | OSI SAF website description | OSI SAF identifier |\n",
    "|:-----------------:|:-----------------:|:-----------------:|:-----------------:|\n",
    "| Full resolution Metop-B Sea Surface Temperature metagranules | EO:EUM:DAT:METOP:MGR-SST | <a href=\"https://osi-saf.eumetsat.int/products/osi-204-b\" target=\"_blank\">Description</a>| OSI-204-b | \n",
    "| Full resolution Metop-C Sea Surface Temperature metagranules | EO:EUM:DAT:METOP:MGR-SST | <a href=\"https://osi-saf.eumetsat.int/products/osi-204-c\" target=\"_blank\">Description</a>| OSI-204-c | \n",
    "\n",
    "\n",
    "### Learning outcomes\n",
    "\n",
    "At the end of this notebook you will know;\n",
    "* How to download different OSI SAF sea surface temperature (SST) products using the IFREMER OpenSearch protocol\n",
    "\n",
    "### Outline\n",
    "\n",
    "OSI SAF SST data are available in different distributions. We have explore how to access the low and middle latitude FTP server in the previous notebook. In this notebook, we will explore a way to earch the data by area of interest and period before downloading them. For that, we will search through the **level 2**, full sensor resolution, Metop Near Real Time product, using the <a href=\"https://opensearch.ifremer.fr/\">Ifremer OpenSearch service</a>. OSI SAF is distributing two distinct product for each of the currently operating Metop satellites: <a href=\"https://osi-saf.eumetsat.int/products/osi-204-b\">Metop-B</a> and <a href=\"https://osi-saf.eumetsat.int/products/osi-204-c\">Metop-C</a>. We will see how to search data in each of the products.\n",
    "\n",
    "<div class=\"alert alert-info\" role=\"alert\">\n",
    "\n",
    "## <a id='TOC-TOP'></a>Contents\n",
    "\n",
    "</div>\n",
    "    \n",
    " 1. [Creating the workspace](#section1)\n",
    " 1. [Setting login information](#section2)\n",
    " 1. [Defining satellite names and querry parameters](#section3)\n",
    " 1. [Launch an OpenSearch request](#section4)\n",
    "\n",
    "<hr>"
   ]
  },
  {
   "cell_type": "markdown",
   "metadata": {},
   "source": [
    "<div class=\"alert alert-info\" role=\"alert\">\n",
    "\n",
    "## <a id='section1'></a>1. Creating the workspace\n",
    "[Back to top](#TOC-TOP)\n",
    "\n",
    "</div>\n",
    "\n",
    "We begin by importing all of the libraries that we need to run this notebook. If you have built your python using the environment file provided in this repository, then you should have everything you need. For more information on building environment, please see the repository **<a href=\"../README.md\" target=\"_blank\">README</a>**."
   ]
  },
  {
   "cell_type": "code",
   "execution_count": 12,
   "metadata": {},
   "outputs": [],
   "source": [
    "# library imports\n",
    "import os               # a library that allows to access to basic operating system commands like making directories\n",
    "import json             # a library that helps with JSON format files\n",
    "import requests         # a library that helps retrieve remote data\n",
    "import xml.dom.minidom  # a library that helps decode xml files\n",
    "import warnings         # a library that controls python warnings\n",
    "import datetime         # a library that allows us to use date and time objects\n",
    "warnings.filterwarnings('ignore')"
   ]
  },
  {
   "cell_type": "markdown",
   "metadata": {},
   "source": [
    "Next we will create a download directory to store the products we will download in this notebook. <br> \n",
    "*Note: this step was normaly already done in previous chapter. If the directory 'product' already exists, the following command will not do anything.*"
   ]
  },
  {
   "cell_type": "code",
   "execution_count": 13,
   "metadata": {},
   "outputs": [],
   "source": [
    "download_dir = os.path.join(os.getcwd(), \"products\")\n",
    "os.makedirs(download_dir, exist_ok=True)"
   ]
  },
  {
   "cell_type": "markdown",
   "metadata": {},
   "source": [
    "<div class=\"alert alert-info\" role=\"alert\">\n",
    "\n",
    "## <a id='section2'></a>2. Setting login information\n",
    "[Back to top](#TOC-TOP)\n",
    "\n",
    "</div>\n",
    "\n",
    "We will access OSI SAF data from the OSI SAF Lower-Mid-Latitude Centre FTP server in the same way as in the <a href=\"./1_1a_OSI_SAF_SST_data_access_IFREMER_FTP.ipynb\" target=\"_blank\">previous chapter</a>.\n",
    "\n",
    "#### Option 1: creating  `.eumetsat_osi_saf_sst_credentials` in our home directory.\n",
    "\n",
    "If you created the `.eumetsat_osi_saf_sst_credentials` in the <a href=\"./1_1a_OSI_SAF_SST_data_access_IFREMER_FTP.ipynb\" target=\"_blank\">previous chapter</a>, you just need to execute the command in the following cell : the credentials to access the FTP server will be load from the file you previously created."
   ]
  },
  {
   "cell_type": "markdown",
   "metadata": {},
   "source": [
    "Reading credential information"
   ]
  },
  {
   "cell_type": "code",
   "execution_count": 14,
   "metadata": {},
   "outputs": [],
   "source": [
    "# read credentials\n",
    "with open(os.path.join(os.path.expanduser(\"~\"),'.eumetsat_osi_saf_sst_credentials')) as json_file:\n",
    "    credentials = json.load(json_file)"
   ]
  },
  {
   "cell_type": "markdown",
   "metadata": {},
   "source": [
    "Loading credentials"
   ]
  },
  {
   "cell_type": "code",
   "execution_count": 15,
   "metadata": {},
   "outputs": [],
   "source": [
    "username = credentials['username'] \n",
    "password = credentials['password']"
   ]
  },
  {
   "cell_type": "markdown",
   "metadata": {},
   "source": [
    "Option 2: provide credentials directly\n",
    "You can provide your credentials directly as follows; by uncommenting the following lines."
   ]
  },
  {
   "cell_type": "code",
   "execution_count": 16,
   "metadata": {},
   "outputs": [],
   "source": [
    "# username = <provided_username>\n",
    "# password = <provided_password>"
   ]
  },
  {
   "cell_type": "markdown",
   "metadata": {},
   "source": [
    "You must replace <provided_username> and <provided_password> with the information provided to you after you have registered to the OSI SAF website and mentionned your interest in SST data.\n",
    "\n",
    "Once you have created an EUMETSAT OSI SAF account, the generic password and credentials to access OSI SAF Lower-Mid-Latitude  server should have been sent to you via email.\n",
    "\n",
    "Note: this method is convenient in the short term, but is not really recommended as you have to put your provided username and password in this notebook, and run the risk of accidentally sharing them. This method also requires you to authenticate on a notebook-by-notebook basis."
   ]
  },
  {
   "cell_type": "markdown",
   "metadata": {},
   "source": [
    "<div class=\"alert alert-info\" role=\"alert\">\n",
    "\n",
    "## <a id='section3'></a>3. Defining satellite names and querry parameters\n",
    "[Back to top](#TOC-TOP)\n",
    "\n",
    "</div>"
   ]
  },
  {
   "cell_type": "markdown",
   "metadata": {},
   "source": [
    "This first section allows to set the satellite names in order to define a related OpenSearch query"
   ]
  },
  {
   "cell_type": "code",
   "execution_count": 17,
   "metadata": {
    "scrolled": true
   },
   "outputs": [],
   "source": [
    "# setting satellite names\n",
    "SST_MetopB = \"avhrr_sst_metop_b-osisaf-l2p-v1.0\"\n",
    "# SST_MetopC = \"avhrr_sst_metop_c-osisaf-l2p-v1.0\""
   ]
  },
  {
   "cell_type": "markdown",
   "metadata": {},
   "source": [
    "Setting the Date, Time, Satellite and Lat° by Lon° box.<br>\n",
    "We here give you some examples in toggle line. It is up to you to choose."
   ]
  },
  {
   "cell_type": "code",
   "execution_count": 18,
   "metadata": {},
   "outputs": [],
   "source": [
    "#acquisition_day = datetime.datetime.now() - datetime.timedelta(days=5)\n",
    "YYYY = \"2025\" \n",
    "MM = \"01\" \n",
    "DD = \"10\" \n",
    "satellite = SST_MetopB\n",
    "\n",
    "# # Bretagne + Channel\n",
    "# lon_min = \"-8\"\n",
    "# lon_max = \"3\"\n",
    "# lat_min = \"45\"\n",
    "# lat_max = \"51\"\n",
    "\n",
    "# # Global\n",
    "# lon_min = \"-180\"\n",
    "# lon_max = \"180\"\n",
    "# lat_min = \"-90\"\n",
    "# lat_max = \"90\"\n",
    "\n",
    "\n",
    "# # Gibraltar\n",
    "# lon_min = \"-10\"\n",
    "# lon_max = \"-2\"\n",
    "# lat_min = \"33\"\n",
    "# lat_max = \"38\"\n",
    "\n",
    "# # South Africa\n",
    "lon_min = \"6\"\n",
    "lon_max = \"45\"\n",
    "lat_min = \"-39\"\n",
    "lat_max = \"-14\"\n",
    "\n",
    "\n",
    "# # Japan\n",
    "# lon_min = \"124\"\n",
    "# lon_max = \"147\"\n",
    "# lat_min = \"25\"\n",
    "# lat_max = \"46\""
   ]
  },
  {
   "cell_type": "markdown",
   "metadata": {},
   "source": [
    "Setting connection information"
   ]
  },
  {
   "cell_type": "code",
   "execution_count": 19,
   "metadata": {},
   "outputs": [],
   "source": [
    "session = requests.Session()\n",
    "#username = credentials['username'] \n",
    "#password = credentials['password']"
   ]
  },
  {
   "cell_type": "markdown",
   "metadata": {},
   "source": [
    "<div class=\"alert alert-info\" role=\"alert\">\n",
    "\n",
    "## <a id='section4'></a>4. Launch an OpenSearch request\n",
    "[Back to top](#TOC-TOP)\n",
    "\n",
    "</div>"
   ]
  },
  {
   "cell_type": "markdown",
   "metadata": {},
   "source": [
    "In the upper section we selected the Metop-B/AVHRR dataset Let's then create a specific folder to hold the SST granules (=each file of 3min of measurement by the sensor).<br>\n",
    "*note: if you choose to download from Metop-C/AVHRR, we advise you to store them in a separate folder name accordingly*"
   ]
  },
  {
   "cell_type": "code",
   "execution_count": 20,
   "metadata": {},
   "outputs": [],
   "source": [
    "download_dir = os.path.join(os.getcwd(), \"products\", \"L2_AVHRR_Metop-B\")\n",
    "os.makedirs(download_dir, exist_ok=True)"
   ]
  },
  {
   "cell_type": "markdown",
   "metadata": {},
   "source": [
    "Set the download request"
   ]
  },
  {
   "cell_type": "code",
   "execution_count": 21,
   "metadata": {},
   "outputs": [],
   "source": [
    "if os.path.exists('searchresult.xml'):\n",
    "    os.remove('searchresult.xml')\n",
    "start_time = '07:00:00'\n",
    "end_time = '14:00:00'\n",
    "opensearch = requests.get('https://opensearch.ifremer.fr/granules.atom?'\\\n",
    "                          'datasetId=' + satellite + \\\n",
    "                          '&startPage=0&count=1000&'\\\n",
    "                          'timeStart='+YYYY+'-'+MM+'-'+DD+'T' + start_time + 'Z&'\\\n",
    "                          'timeEnd='+YYYY+'-'+MM+'-'+DD+'T' + end_time + 'Z&'\\\n",
    "                          'geoBox='+lon_min+','+lat_min+','+lon_max+','+lat_max, verify=False)\n",
    "searchresult = open('searchresult.xml','w')\n",
    "searchresult.write(opensearch.text)\n",
    "searchresult.close()"
   ]
  },
  {
   "cell_type": "markdown",
   "metadata": {},
   "source": [
    "Parse granules and download files"
   ]
  },
  {
   "cell_type": "code",
   "execution_count": 22,
   "metadata": {},
   "outputs": [
    {
     "name": "stdout",
     "output_type": "stream",
     "text": [
      "8 granules\n",
      "https://osi-saf.ifremer.fr/sst/l2p/global/avhrr_metop_b/2025/010/20250110070103-OSISAF-L2P_GHRSST-SSTsubskin-AVHRR_SST_METOP_B-sstmgr_metop01_20250110_070103-v02.0-fv01.0.nc\n",
      "20250110070103-OSISAF-L2P_GHRSST-SSTsubskin-AVHRR_SST_METOP_B-sstmgr_metop01_20250110_070103-v02.0-fv01.0.nc\n",
      "https://osi-saf.ifremer.fr/sst/l2p/global/avhrr_metop_b/2025/010/20250110070403-OSISAF-L2P_GHRSST-SSTsubskin-AVHRR_SST_METOP_B-sstmgr_metop01_20250110_070403-v02.0-fv01.0.nc\n",
      "20250110070403-OSISAF-L2P_GHRSST-SSTsubskin-AVHRR_SST_METOP_B-sstmgr_metop01_20250110_070403-v02.0-fv01.0.nc\n",
      "https://osi-saf.ifremer.fr/sst/l2p/global/avhrr_metop_b/2025/010/20250110071003-OSISAF-L2P_GHRSST-SSTsubskin-AVHRR_SST_METOP_B-sstmgr_metop01_20250110_071003-v02.0-fv01.0.nc\n",
      "20250110071003-OSISAF-L2P_GHRSST-SSTsubskin-AVHRR_SST_METOP_B-sstmgr_metop01_20250110_071003-v02.0-fv01.0.nc\n",
      "https://osi-saf.ifremer.fr/sst/l2p/global/avhrr_metop_b/2025/010/20250110084003-OSISAF-L2P_GHRSST-SSTsubskin-AVHRR_SST_METOP_B-sstmgr_metop01_20250110_084003-v02.0-fv01.0.nc\n",
      "20250110084003-OSISAF-L2P_GHRSST-SSTsubskin-AVHRR_SST_METOP_B-sstmgr_metop01_20250110_084003-v02.0-fv01.0.nc\n",
      "https://osi-saf.ifremer.fr/sst/l2p/global/avhrr_metop_b/2025/010/20250110084303-OSISAF-L2P_GHRSST-SSTsubskin-AVHRR_SST_METOP_B-sstmgr_metop01_20250110_084303-v02.0-fv01.0.nc\n",
      "20250110084303-OSISAF-L2P_GHRSST-SSTsubskin-AVHRR_SST_METOP_B-sstmgr_metop01_20250110_084303-v02.0-fv01.0.nc\n",
      "https://osi-saf.ifremer.fr/sst/l2p/global/avhrr_metop_b/2025/010/20250110084603-OSISAF-L2P_GHRSST-SSTsubskin-AVHRR_SST_METOP_B-sstmgr_metop01_20250110_084603-v02.0-fv01.0.nc\n",
      "20250110084603-OSISAF-L2P_GHRSST-SSTsubskin-AVHRR_SST_METOP_B-sstmgr_metop01_20250110_084603-v02.0-fv01.0.nc\n",
      "https://osi-saf.ifremer.fr/sst/l2p/global/avhrr_metop_b/2025/010/20250110070703-OSISAF-L2P_GHRSST-SSTsubskin-AVHRR_SST_METOP_B-sstmgr_metop01_20250110_070703-v02.0-fv01.0.nc\n",
      "20250110070703-OSISAF-L2P_GHRSST-SSTsubskin-AVHRR_SST_METOP_B-sstmgr_metop01_20250110_070703-v02.0-fv01.0.nc\n",
      "https://osi-saf.ifremer.fr/sst/l2p/global/avhrr_metop_b/2025/010/20250110084903-OSISAF-L2P_GHRSST-SSTsubskin-AVHRR_SST_METOP_B-sstmgr_metop01_20250110_084903-v02.0-fv01.0.nc\n",
      "20250110084903-OSISAF-L2P_GHRSST-SSTsubskin-AVHRR_SST_METOP_B-sstmgr_metop01_20250110_084903-v02.0-fv01.0.nc\n"
     ]
    }
   ],
   "source": [
    "# parse granules and download files\n",
    "xml_resultfile = xml.dom.minidom.parse('searchresult.xml')\n",
    "link_list = xml_resultfile.getElementsByTagName('link')\n",
    "granule_number = link_list.length / 3\n",
    "print(\"%d granules\" % granule_number)\n",
    "for link in link_list:\n",
    "    if link.getAttribute('title') == \"HTTPS\" :\n",
    "        url = link.getAttribute('href')\n",
    "        print(url)\n",
    "        r = requests.get(url, auth=(username, password), verify=False)\n",
    "        # r.raw.decode_content = True\n",
    "        filename = url.rsplit('/', 1)[1]\n",
    "        print(filename)\n",
    "        with open(os.path.join(os.getcwd(), 'products', 'L2_AVHRR_Metop-B', filename), 'wb') as f:\n",
    "           f.write(r.content)"
   ]
  },
  {
   "cell_type": "markdown",
   "metadata": {},
   "source": [
    "<hr>\n",
    "<a href=\"../Index.ipynb\" target=\"_blank\"><< Index</a>\n",
    "<br>\n",
    "<a href=\"./1_1b_OSI_SAF_SST_data_access_IFREMER_FTP.ipynb\" target=\"_blank\"><< Accessing OSI SAF SST products through the IFREMER FTP server</a>&nbsp;&nbsp;&nbsp;&nbsp;&nbsp;<a href=\"./1_1c_OSI_SAF_SST_data_access_Eumetsat_data_store.ipynb\" target=\"_blank\">Accessing data through Eumetsat data store >></a>\n",
    "<hr>\n",
    "<a href=\"https://gitlab.eumetsat.int/eumetlab/ocean\">View on GitLab</a> | <a href=\"https://training.eumetsat.int/\">EUMETSAT Training</a> | <a href=mailto:ops@eumetsat.int>Contact helpdesk for support </a> | <a href=mailto:training@eumetsat.int>Contact our training team to collaborate on and reuse this material</a></span></p>"
   ]
  }
 ],
 "metadata": {
  "author": "Olivier Membrive, Cecile Hernandez, Stephane Saux Picart, Ben Loveday, Hayley Evers-King, Gwenael Le Bras",
  "content_type": "Software & code",
  "data_access": "SAF archive",
  "deployment": {
   "eumetsat": {
    "binder": {
     "link": "https://mybinder.org/v2/git/https%3A%2F%2Fgitlab.eumetsat.int%2Feumetlab%2Foceans%2Focean-training%2Fsensors%2Flearn-osi-saf-sst/HEAD?labpath=1_OSI_SAF_sst_introductory%2F1_1a_OSI_SAF_SST_data_access_IFREMER_Opensearch.ipynb",
     "service_contact": "ops@eumetsat.int",
     "service_provider": "EUMETSAT"
    },
    "git": {
     "link": "https://gitlab.eumetsat.int/eumetlab/oceans/ocean-training/sensors/learn-osi-saf-sst/-/blob/main/1_OSI_SAF_sst_introductory/1_1a_OSI_SAF_SST_data_access_IFREMER_Opensearch.ipynb",
     "service_contact": "ops@eumetsat.int",
     "service_provider": "EUMETSAT"
    }
   },
   "wekeo": {
    "git": {
     "link": " ",
     "service_contact": "ops@eumetsat.int",
     "service_provider": "EUMETSAT"
    },
    "url": {
     "link": " ",
     "service_contact": "ops@eumetsat.int",
     "service_provider": "EUMETSAT"
    }
   }
  },
  "description": "This Jupyter Notebook shows how to access Metop sea surface temperature (SST) granules using the IFREMER OpenSearch protocol.",
  "image": "../img/thumbs/1_1a_OSI_SAF_SST_data_access_IFREMER_Opensearch_thumb.png",
  "kernelspec": {
   "display_name": "cmts_learn_osi_saf_sst",
   "language": "python",
   "name": "python3"
  },
  "language_info": {
   "codemirror_mode": {
    "name": "ipython",
    "version": 3
   },
   "file_extension": ".py",
   "mimetype": "text/x-python",
   "name": "python",
   "nbconvert_exporter": "python",
   "pygments_lexer": "ipython3",
   "version": "3.10.14"
  },
  "license": "MIT",
  "metadata_schema_version": "2.0.0",
  "originator": "EUMETSAT",
  "tags": {
   "data_provider": "EUMETSAT",
   "orbit": "LEO",
   "satellite": "Metop",
   "sensor": "AVHRR (Metop)",
   "service": "OSI SAF",
   "subtheme": [
    "Climate system monitoring - Ocean",
    "Ocean dynamics"
   ],
   "theme": "Marine",
   "variable": "Sea surface temperature"
  },
  "title": "Accessing Metop SST metagranule data through IFREMER opensearch queries",
  "version": "2.0.0",
  "version_date": "2024-07-01"
 },
 "nbformat": 4,
 "nbformat_minor": 4
}
