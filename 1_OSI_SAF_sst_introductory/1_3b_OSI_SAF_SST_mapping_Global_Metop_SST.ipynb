{
 "cells": [
  {
   "cell_type": "markdown",
   "metadata": {},
   "source": [
    "<img src='https://gitlab.eumetsat.int/eumetlab/oceans/ocean-training/tools/frameworks/-/raw/main/img/OSI-SAF_banner.png' align='right' width='100%'/>"
   ]
  },
  {
   "cell_type": "markdown",
   "metadata": {},
   "source": [
    "<a href=\"../Index.ipynb\" target=\"_blank\"><< Index</a>\n",
    "<br>\n",
    "<a href=\"./1_3a_OSI_SAF_SST_mapping_Metop_Metagranules.ipynb\" target=\"_blank\"><< Mapping Metop SST Metagranules</a>&nbsp;&nbsp;&nbsp;&nbsp;&nbsp;<a href=\"./1_3c_OSI_SAF_SST_mapping_Geo_SST.ipynb\" target=\"_blank\">Mapping Geostationary data satellite >></a>"
   ]
  },
  {
   "cell_type": "markdown",
   "metadata": {},
   "source": [
    "<font color=\"#138D75\">**EUMETSAT OSI SAF Training Service**</font> <br>\n",
    "**Copyright:** 2024 EUMETSAT <br>\n",
    "**License:** MIT"
   ]
  },
  {
   "cell_type": "markdown",
   "metadata": {},
   "source": [
    "<html>\n",
    "  <div style=\"width:100%\">\n",
    "    <div style=\"float:left\"><a href=\"https://mybinder.org/v2/git/https%3A%2F%2Fgitlab.eumetsat.int%2Feumetlab%2Foceans%2Focean-training%2Fsensors%2Flearn-osi-saf-sst/HEAD?labpath=1_OSI_SAF_sst_introductory%2F1_3b_OSI_SAF_SST_mapping_Global_Metop_SST.ipynb\"><img src=\"https://mybinder.org/badge_logo.svg\" alt=\"Open in Binder\"></a></div>\n",
    "    <div style=\"float:left\"><p>&emsp;</p></div>\n",
    "  </div>\n",
    "</html>"
   ]
  },
  {
   "cell_type": "markdown",
   "metadata": {},
   "source": [
    "<div class=\"alert alert-block alert-success\">\n",
    "<h3>Learn OSI SAF sea surface temperature: Introductory</h3></div>"
   ]
  },
  {
   "cell_type": "markdown",
   "metadata": {},
   "source": [
    "<div class=\"alert alert-block alert-warning\">\n",
    "    \n",
    "<b>PREREQUISITES </b>\n",
    "    \n",
    "The following modules are prerequisites for this notebook, and will retrieve the data required here.\n",
    "  - **<a href=\"./1_1b_OSI_SAF_SST_data_access_IFREMER_FTP.ipynb\" target=\"_blank\">1_1b_OSI_SAF_SST_data_access_IFREMER_FTP.ipynb</a>**\n",
    "\n",
    "</div>\n",
    "<hr>"
   ]
  },
  {
   "cell_type": "markdown",
   "metadata": {},
   "source": [
    "# 1.3b Mapping Global Metop AVHRR SST products\n",
    "\n",
    "### Data used \n",
    "\n",
    "| Dataset | EUMETSAT collection ID | OSI SAF website description | OSI SAF identifier |\n",
    "|:-----------------:|:-----------------:|:-----------------:|:-----------------:|\n",
    "| Global Metop Sea Surface Temperature | EO:EUM:DAT:METOP:GLB-SST-NC | <a href=\"https://osi-saf.eumetsat.int/products/osi-201-b\" target=\"_blank\">Description</a>| OSI-201-b | \n",
    "\n",
    "\n",
    "### Learning outcomes\n",
    "\n",
    "At the end of this notebook you will know;\n",
    "* How to open Global Metop / AVHRR SST files\n",
    "* Map SST using cartopy \n",
    "\n",
    "<div class=\"alert alert-info\" role=\"alert\">\n",
    "\n",
    "## <a id='TOC-TOP'></a>Contents\n",
    "\n",
    "</div>\n",
    "\n",
    " 1. [Setting parameters](#section1)\n",
    " 1. [Map SST](#section3)\n",
    " \n",
    "<hr>"
   ]
  },
  {
   "cell_type": "markdown",
   "metadata": {},
   "source": [
    "We begin by importing all of the libraries that we need to run this notebook. If you have built your python using the environment file provided in this repository, then you should have everything you need. For more information on building environment, please see the repository **<a href=\"../README.md\" target=\"_blank\">README</a>**."
   ]
  },
  {
   "cell_type": "code",
   "execution_count": null,
   "metadata": {},
   "outputs": [],
   "source": [
    "# library imports \n",
    "import os                          # a library that allows us access to basic operating system commands\n",
    "import xarray as xr                # a library that supports the use of multi-dimensional arrays in Python\n",
    "import matplotlib as mpl           # a library for visualization\n",
    "import matplotlib.pyplot as plt    # a library that supports plotting\n",
    "import matplotlib.cm as mpl_cm     # a part of the plotting library that provides colour maps\n",
    "import cartopy.crs as ccrs         # a mapping library that supports reprojection\n",
    "import cartopy.feature as cfeature # a part of the mapping library that provides features such as coastlines\n",
    "import cmocean                     # colormaps for ocean products\n",
    "import cmcrameri                   # scientific colormaps for data visualisation\n",
    "import urllib                      # a library that helps us read in remote resources from URLs\n",
    "from PIL import Image              # a library that helps us plot images\n",
    "import numpy as np                 # a library that supports array manipulation\n",
    "import warnings                    # a library that controls python warnings\n",
    "warnings.filterwarnings('ignore')"
   ]
  },
  {
   "cell_type": "markdown",
   "metadata": {},
   "source": [
    "<div class=\"alert alert-warning\" role=\"alert\">\n",
    "\n",
    "## <a id='section0'></a>0. Supporting functions\n",
    "[Back to top](#TOC-TOP)\n",
    "\n",
    "</div>"
   ]
  },
  {
   "cell_type": "markdown",
   "metadata": {},
   "source": [
    "Before we begin, we will define shorts functions."
   ]
  },
  {
   "cell_type": "markdown",
   "metadata": {},
   "source": [
    "The function name `mapping_sst` create a plot figure of sea surface temperature of the sst product available in the directory **dir** with a specific output projection and a specific region of the globe if given."
   ]
  },
  {
   "cell_type": "code",
   "execution_count": null,
   "metadata": {},
   "outputs": [],
   "source": [
    "def mapping_sst(dir, output_projection, cmap, ax=None, title=\"\", region=None): \n",
    "    \"\"\"\n",
    "    Function to map Sea Surface Temperature. \n",
    "\n",
    "    Args:\n",
    "        dir (string)        : the directory where files are\n",
    "        output_projection   : the output projection to plot map\n",
    "        cmap                : color palette\n",
    "        ax                  : the axis of the plot\n",
    "        title (sting)       : title of the plot\n",
    "        region (list)       : the region to zoom in. If not region is given, plot a global map\n",
    "        \n",
    "    Returns:\n",
    "        im                  : the plotting figure\n",
    "\n",
    "    \"\"\"\n",
    "    \n",
    "    # set data projection\n",
    "    data_projection=ccrs.PlateCarree()\n",
    "\n",
    "    # define plot carateristics\n",
    "    if not ax : ax = plt.axes([0.1,0.1,0.75,0.85], projection=output_projection)\n",
    "    ax.add_feature(cfeature.OCEAN, zorder=0, facecolor='black') # Change color of ocean\n",
    "    ax.add_feature(cfeature.LAND, zorder=0, facecolor='lightgrey') # Change color of land\n",
    "    ax.gridlines(draw_labels=True) # Add coasrline\n",
    "    ax.coastlines('10m') # Draw coastline\n",
    "    # Select region to zooming \n",
    "    if region : \n",
    "        ax.set_extent(region, crs=output_projection)\n",
    "    else :\n",
    "        ax.set_global()\n",
    "    \n",
    "    # Add title\n",
    "    plt.title(title, fontsize=18)\n",
    "\n",
    "    # open and plot data\n",
    "    for filename in os.listdir(dir):\n",
    "        if filename.endswith(\".nc\"):\n",
    "            nc = xr.open_dataset(os.path.join(dir, filename))\n",
    "            lat = nc.variables['lat'][:]    \n",
    "            lon = nc.variables['lon'][:]\n",
    "            sst = nc.variables['sea_surface_temperature'][:]\n",
    "            ql  = nc.variables['quality_level'][:]\n",
    "            nc.close()\n",
    "\n",
    "            # Use only SST with quality_level > 2\n",
    "            sst_ql345 = np.ma.masked_where(ql<3, sst)\n",
    "            \n",
    "            SST = sst_ql345[0,:,:]-273.15\n",
    "            # plotting sst\n",
    "            im = plt.pcolormesh(lon, lat, SST, transform=data_projection, cmap=cmap)\n",
    "\n",
    "            # set the min and max temperature for apropriate visualisation\n",
    "            im.set_clim(np.nanmin(SST),np.nanmax(SST))\n",
    "            \n",
    "    return im"
   ]
  },
  {
   "cell_type": "markdown",
   "metadata": {},
   "source": [
    "The function name `add_colorbar` create a colorbar of the image im."
   ]
  },
  {
   "cell_type": "code",
   "execution_count": null,
   "metadata": {},
   "outputs": [],
   "source": [
    "def add_colorbar(im, fig, orientation, cmap, discrete=False, extend='neither'):\n",
    "    \"\"\"\n",
    "    Function to add a colormap. \n",
    "\n",
    "    Args:\n",
    "        im                         : image\n",
    "        fig                        : figure\n",
    "        orientation (string)       : the orientation of colorbar (horizontal or vertical)\n",
    "        cmap                       : color palette\n",
    "        dicrete (bool)             : add discrete color\n",
    "        extend                     : extension type of the colorbar (neither, max, min or both) \n",
    "\n",
    "    \"\"\"\n",
    "    \n",
    "    if orientation == 'horizontal':\n",
    "        axc = fig.add_axes((0.1,0.1,0.75,0.02))\n",
    "        ax = fig.add_axes([0.43,0.12,0.1,0.05], anchor='S', zorder=-1 )\n",
    "    else :\n",
    "        axc = fig.add_axes((0.85,0.2,0.02,0.85))\n",
    "        ax = fig.add_axes([0.8,.1,0.1,0.05], anchor='S', zorder=-1 )\n",
    "\n",
    "    if discrete:\n",
    "        bounds = range(int(im.get_clim()[0]),int(im.get_clim()[1]))\n",
    "        norm = mpl.colors.BoundaryNorm(bounds, cmap.N)\n",
    "        cb = plt.colorbar(im, orientation=orientation, cax=axc, extend=extend, norm=norm, spacing='proportional', ticks=bounds, boundaries=bounds)\n",
    "    else:\n",
    "        cb = plt.colorbar(im, orientation=orientation, cax=axc, extend=extend)\n",
    "    \n",
    "    url = \"https://gitlab.eumetsat.int/eumetlab/oceans/ocean-training/tools/frameworks/-/raw/main/img/OSISAF_Name_Colour.png\"\n",
    "    logo = np.array(Image.open(urllib.request.urlopen(url)))\n",
    "    \n",
    "    ax.imshow(logo)\n",
    "    ax.axis('off')\n",
    "    \n",
    "    cb.set_label('SST [°C]', fontsize=18)\n",
    "    cb.ax.tick_params(labelsize=14)"
   ]
  },
  {
   "cell_type": "markdown",
   "metadata": {},
   "source": [
    "<div class=\"alert alert-info\" role=\"alert\">\n",
    "\n",
    "## <a id='section1'></a>1. Setting parameters\n",
    "[Back to top](#TOC-TOP)\n",
    "\n",
    "</div>"
   ]
  },
  {
   "cell_type": "markdown",
   "metadata": {},
   "source": [
    "Setting directory where to read data files"
   ]
  },
  {
   "cell_type": "code",
   "execution_count": null,
   "metadata": {},
   "outputs": [],
   "source": [
    "directory = os.path.join(os.getcwd(), 'products', 'L3_global_Metop')"
   ]
  },
  {
   "cell_type": "markdown",
   "metadata": {},
   "source": [
    "Choose a colormap for your data set. You can find more information on matplotlib colormaps <a href=\"https://matplotlib.org/stable/tutorials/colors/colormaps.html\" target=\"_blank\">here</a>.   \n",
    "However, we recommend you have a look at <a href=\" https://matplotlib.org/cmocean/\" target=\"_blank\">cmocean colormaps</a> or that you use scientific colormaps for data visulaisation from librairies such as cmcrameri."
   ]
  },
  {
   "cell_type": "code",
   "execution_count": null,
   "metadata": {},
   "outputs": [],
   "source": [
    "cmap = mpl_cm.get_cmap('RdYlBu_r')\n",
    "#cmap = cmocean.cm.thermal"
   ]
  },
  {
   "cell_type": "markdown",
   "metadata": {},
   "source": [
    "<div class=\"alert alert-info\" role=\"alert\">\n",
    "\n",
    "## <a id='section2'></a>2. Map SST\n",
    "[Back to top](#TOC-TOP)\n",
    "\n",
    "</div>"
   ]
  },
  {
   "cell_type": "markdown",
   "metadata": {
    "tags": []
   },
   "source": [
    "### Global mapping"
   ]
  },
  {
   "cell_type": "markdown",
   "metadata": {},
   "source": [
    "Mapping figure based on retrieved global SST file"
   ]
  },
  {
   "cell_type": "code",
   "execution_count": null,
   "metadata": {},
   "outputs": [],
   "source": [
    "\n",
    "fig = plt.figure(figsize=(16,10))\n",
    "\n",
    "# request output projection\n",
    "output_projection=ccrs.PlateCarree()\n",
    "\n",
    "# define title\n",
    "title = \"Global Map - 2023 07 15\"\n",
    "\n",
    "# Mapping sst\n",
    "im = mapping_sst(directory, \n",
    "                 output_projection,\n",
    "                 cmap, \n",
    "                 title=title)\n",
    "\n",
    "add_colorbar(im, fig, orientation=\"horizontal\", cmap=cmap)"
   ]
  },
  {
   "cell_type": "markdown",
   "metadata": {
    "tags": []
   },
   "source": [
    "### Other type of mapping"
   ]
  },
  {
   "cell_type": "markdown",
   "metadata": {},
   "source": [
    "Try a different projection.\n",
    "\n",
    "Other type of mapping projection can be use to visualize SST products. All the map projection are available in the  <a href=\"https://scitools.org.uk/cartopy/docs/v0.15/crs/projections.html\" target=\"_blank\">cartopy documenation</a> "
   ]
  },
  {
   "cell_type": "code",
   "execution_count": null,
   "metadata": {},
   "outputs": [],
   "source": [
    "fig = plt.figure(figsize=(14,16))\n",
    "\n",
    "# request output projection\n",
    "output_projection=ccrs.Orthographic(central_longitude=0, central_latitude=0)\n",
    "\n",
    "# define title\n",
    "title = \"Global SST 2023 07 15 - Orthographic\"\n",
    "\n",
    "# Mapping sst\n",
    "im = mapping_sst(directory,\n",
    "                 output_projection, \n",
    "                 cmap,\n",
    "                 title=title)\n",
    "\n",
    "add_colorbar(im, fig, orientation=\"horizontal\", cmap=cmap)"
   ]
  },
  {
   "cell_type": "markdown",
   "metadata": {
    "tags": []
   },
   "source": [
    "### Zoom"
   ]
  },
  {
   "cell_type": "markdown",
   "metadata": {},
   "source": [
    "In order to visualize a specific area of the globe, we use the parameter `region` by adding the extremum of longitude and the extremum of latitude "
   ]
  },
  {
   "cell_type": "markdown",
   "metadata": {},
   "source": [
    "Set the geographical area "
   ]
  },
  {
   "cell_type": "code",
   "execution_count": null,
   "metadata": {},
   "outputs": [],
   "source": [
    "# setting geographical area (preset is an example you need to adapt to your data)\n",
    "lon_min = -90\n",
    "lon_max = -60\n",
    "lat_min = 0\n",
    "lat_max = 30"
   ]
  },
  {
   "cell_type": "code",
   "execution_count": null,
   "metadata": {},
   "outputs": [],
   "source": [
    "fig = plt.figure(figsize=(16,12))\n",
    "\n",
    "# request output projection\n",
    "output_projection=ccrs.PlateCarree()\n",
    "\n",
    "# define title\n",
    "title = \"Global SST for caribean sea on 2023 07 15 - Plate Carree\"\n",
    "\n",
    "# Mapping sst\n",
    "im = mapping_sst(directory,\n",
    "                 output_projection, \n",
    "                 cmap,\n",
    "                 title=title, \n",
    "                 region=[lon_min,lon_max,lat_min,lat_max])\n",
    "\n",
    "add_colorbar(im, fig, orientation=\"horizontal\", cmap=cmap)"
   ]
  },
  {
   "cell_type": "markdown",
   "metadata": {},
   "source": [
    "<hr>\n",
    "<a href=\"../Index.ipynb\" target=\"_blank\"><< Index</a>\n",
    "<br>\n",
    "<a href=\"./1_3a_OSI_SAF_SST_mapping_Metop_Metagranules.ipynb\" target=\"_blank\"><< Mapping Metop SST Metagranules</a>&nbsp;&nbsp;&nbsp;&nbsp;&nbsp;<a href=\"./1_3c_OSI_SAF_SST_mapping_Geo_SST.ipynb\" target=\"_blank\">Mapping Geostationary data satellite >></a>\n",
    "<hr>\n",
    "<a href=\"https://gitlab.eumetsat.int/eumetlab/ocean\">View on GitLab</a> | <a href=\"https://training.eumetsat.int/\">EUMETSAT Training</a> | <a href=mailto:ops@eumetsat.int>Contact helpdesk for support </a> | <a href=mailto:training@eumetsat.int>Contact our training team to collaborate on and reuse this material</a></span></p>"
   ]
  }
 ],
 "metadata": {
  "author": "Olivier Membrive, Cecile Hernandez, Stephane Saux Picart, Ben Loveday, Hayley Evers-King, Gwenael Le Bras",
  "content_type": "Software & code",
  "data_access": "SAF archive",
  "deployment": {
   "eumetsat": {
    "binder": {
     "link": "https://mybinder.org/v2/git/https%3A%2F%2Fgitlab.eumetsat.int%2Feumetlab%2Foceans%2Focean-training%2Fsensors%2Flearn-osi-saf-sst/HEAD?labpath=1_OSI_SAF_sst_introductory%2F1_3b_OSI_SAF_SST_mapping_Global_Metop_SST.ipynb",
     "service_contact": "ops@eumetsat.int",
     "service_provider": "EUMETSAT"
    },
    "git": {
     "link": "https://gitlab.eumetsat.int/eumetlab/oceans/ocean-training/sensors/learn-osi-saf-sst/-/blob/main/1_OSI_SAF_sst_introductory/1_3b_OSI_SAF_SST_mapping_Global_Metop_SST.ipynb",
     "service_contact": "ops@eumetsat.int",
     "service_provider": "EUMETSAT"
    }
   },
   "wekeo": {
    "git": {
     "link": " ",
     "service_contact": "ops@eumetsat.int",
     "service_provider": "EUMETSAT"
    },
    "url": {
     "link": " ",
     "service_contact": "ops@eumetsat.int",
     "service_provider": "EUMETSAT"
    }
   }
  },
  "description": "This Jupyter Notebook will show you how to map Global Metop-B sea surface temperature (SST) products from the Advanced Very High Resolution Radiometer (AVHRR).",
  "image": "../img/thumbs/1_3b_OSI_SAF_SST_mapping_Global_Metop_SST_thumb.png",
  "kernelspec": {
   "display_name": "cmts_learn_osi_saf_sst",
   "language": "python",
   "name": "python3"
  },
  "language_info": {
   "codemirror_mode": {
    "name": "ipython",
    "version": 3
   },
   "file_extension": ".py",
   "mimetype": "text/x-python",
   "name": "python",
   "nbconvert_exporter": "python",
   "pygments_lexer": "ipython3",
   "version": "3.10.14"
  },
  "license": "MIT",
  "metadata_schema_version": "2.0.0",
  "originator": "EUMETSAT",
  "tags": {
   "data_provider": "EUMETSAT",
   "orbit": "LEO",
   "satellite": "Metop",
   "sensor": "AVHRR (Metop)",
   "service": "OSI SAF",
   "subtheme": [
    "Climate system monitoring - Ocean",
    "Ocean dynamics"
   ],
   "theme": "Marine",
   "variable": "Sea surface temperature"
  },
  "title": "Mapping Global Metop AVHRR SST products",
  "version": "2.0.0",
  "version_date": "2024-07-01"
 },
 "nbformat": 4,
 "nbformat_minor": 4
}
