{
 "cells": [
  {
   "cell_type": "markdown",
   "id": "6bed7156-44c8-4d08-b104-2ff30c4ec9cc",
   "metadata": {},
   "source": [
    "<img src='https://gitlab.eumetsat.int/eumetlab/oceans/ocean-training/tools/frameworks/-/raw/main/img/OSI-SAF_banner.png' align='right' width='100%'/>"
   ]
  },
  {
   "cell_type": "markdown",
   "id": "f51cb810-1d9d-481a-a367-5a276b452fa5",
   "metadata": {},
   "source": [
    "<a href=\"../Index.ipynb\" target=\"_blank\"><< Index</a>\n",
    "<br>\n",
    "<a href=\"./1_1b_OSI_SAF_SST_data_access_IFREMER_FTP.ipynb\" target=\"_blank\"><< Accessing Metop SST metagranule data through IFREMER opensearch queries</a>&nbsp;&nbsp;&nbsp;&nbsp;&nbsp;<a href=\"./1_2_OSI_SAF_SST_file_structure.ipynb\" target=\"_blank\">Exploring OSI SAF SST product structure >></a>"
   ]
  },
  {
   "cell_type": "markdown",
   "id": "41271f14-6501-4fd9-a1e3-bd90ea6acf51",
   "metadata": {},
   "source": [
    "<font color=\"#138D75\">**EUMETSAT OSI SAF Training Service**</font> <br>\n",
    "**Copyright:** 2024 EUMETSAT <br>\n",
    "**License:** MIT"
   ]
  },
  {
   "cell_type": "markdown",
   "id": "d2b81035-bc99-4fe6-bda6-7a11ea549f64",
   "metadata": {},
   "source": [
    "<html>\n",
    "  <div style=\"width:100%\">\n",
    "    <div style=\"float:left\"><a href=\"https://mybinder.org/v2/git/https%3A%2F%2Fgitlab.eumetsat.int%2Feumetlab%2Foceans%2Focean-training%2Fsensors%2Flearn-osi-saf-sst/HEAD?labpath=1_OSI_SAF_sst_introductory%2F1_1a_OSI_SAF_SST_data_access_IFREMER_Opensearch.ipynb\"><img src=\"https://mybinder.org/badge_logo.svg\" alt=\"Open in Binder\"></a></div>\n",
    "    <div style=\"float:left\"><p>&emsp;</p></div>\n",
    "  </div>\n",
    "</html>"
   ]
  },
  {
   "cell_type": "markdown",
   "id": "6b2aafdd-22c6-49c5-82a3-b46a286ef778",
   "metadata": {},
   "source": [
    "<div class=\"alert alert-block alert-success\">\n",
    "<h3>Learn OSI SAF sea surface temperature: Introductory</h3></div>"
   ]
  },
  {
   "cell_type": "markdown",
   "id": "a8338660-9cb3-4a90-97e6-535aeedc7ec6",
   "metadata": {},
   "source": [
    "<div class=\"alert alert-block alert-warning\">\n",
    "    \n",
    "<b>PREREQUISITES </b>\n",
    "    \n",
    "This notebook has the following prerequisites:\n",
    "- **<a href=\"https://osi-saf.eumetsat.int/register\" target=\"_blank\">A EUMETSAT OSI SAF account</a>** if you are using or plan to use the EUMETSAT OSI SAF data.\n",
    "\n",
    "There are no prerequisite notebooks for this module.\n",
    "</div>\n",
    "<hr>"
   ]
  },
  {
   "cell_type": "markdown",
   "id": "9b37bfc2-74bc-4b56-b38c-aa3402230945",
   "metadata": {},
   "source": [
    "# 1.1c Accessing Gobal Metop SST products throught the Eumetsat Data Store\n",
    "### Data used \n",
    "\n",
    "| Dataset | EUMETSAT collection ID | OSI SAF website description | OSI SAF identifier |\n",
    "|:-----------------:|:-----------------:|:-----------------:|:-----------------:|\n",
    "| Global Metop Sea Surface Temperature | EO:EUM:DAT:METOP:GLB-SST-NC | <a href=\"https://osi-saf.eumetsat.int/products/osi-201-b\" target=\"_blank\">Description</a>| OSI-201-b |\n",
    "\n",
    "\n",
    "### Learning outcomes\n",
    "\n",
    "At the end of this notebook you will know;\n",
    "* How to download different OSI SAF sea surface temperature (SST) products using the Eumetsat Data Store\n",
    "\n",
    "<div class=\"alert alert-info\" role=\"alert\">\n",
    "\n",
    "## <a id='TOC-TOP'></a>Contents\n",
    "\n",
    "</div>\n",
    "    \n",
    " 1. [Creating the workspace](#section1)\n",
    " 1. [Setting login information](#section2)\n",
    " 1. [Defining satellite names and querry parameters](#section3)\n",
    " 1. [Launch an OpenSearch request](#section4)\n",
    "\n",
    "<hr>\n",
    "\n",
    "<hr>"
   ]
  },
  {
   "cell_type": "markdown",
   "id": "df1af0b5-e63a-4674-b7d6-0835612f170b",
   "metadata": {},
   "source": [
    "<div class=\"alert alert-info\" role=\"alert\">\n",
    "\n",
    "## <a id='section1'></a>1. Creating the workspace\n",
    "[Back to top](#TOC-TOP)\n",
    "\n",
    "</div>\n",
    "\n",
    "We begin by importing all of the libraries that we need to run this notebook. If you have built your python using the environment file provided in this repository, then you should have everything you need. For more information on building environment, please see the repository **<a href=\"../README.md\" target=\"_blank\">README</a>**."
   ]
  },
  {
   "cell_type": "code",
   "execution_count": 2,
   "id": "bf21f769-ffe4-4674-90e0-b4da28c4402e",
   "metadata": {},
   "outputs": [],
   "source": [
    "import os                       # a library that allows us access to basic operating system commands\n",
    "import json                     # a library that helps us make JSON format files\n",
    "import datetime                 # a libary that allows us to work with dates and times\n",
    "import shutil                   # a library that allows us access to basic operating system commands like copy\n",
    "import eumdac                   # a tool that helps us download via the eumetsat/data-store\n",
    "import zipfile                  # a library that allow us to work with zip file\n",
    "import requests                 # a library that allow us to work with HTTP\n",
    "from pathlib import Path        # a library that helps construct system path objects"
   ]
  },
  {
   "cell_type": "markdown",
   "id": "13cc3b44-6ad2-491f-a003-872348d5f803",
   "metadata": {},
   "source": [
    "Next we will create a download directory to store the products we will download in this notebook.<br>\n",
    "*Note: this step was normaly already done in previous chapter. If the directory 'product' already exists, the following command will not do anything.*"
   ]
  },
  {
   "cell_type": "code",
   "execution_count": 3,
   "id": "483bcfe6-387a-41ee-a74c-b73d4d5adf28",
   "metadata": {},
   "outputs": [],
   "source": [
    "download_dir = os.path.join(os.getcwd(), \"products\")\n",
    "os.makedirs(download_dir, exist_ok=True)"
   ]
  },
  {
   "cell_type": "markdown",
   "id": "b9d31ccd-195b-4af4-8808-386930e247c3",
   "metadata": {},
   "source": [
    "<div class=\"alert alert-info\" role=\"alert\">\n",
    "\n",
    "## <a id='section2'></a>2. Setting login information\n",
    "[Back to top](#TOC-TOP)\n",
    "\n",
    "</div>\n",
    "\n",
    "To access OSI SAF from the <a href=\"https://data.eumetsat.int\">EUMETSAT Data Store</a>. we will use the EUMETSAT Data Access Client (`eumdac`). If you are working with the recommended Anaconda Python distribution and used the supplied environment file (environment.yml) to build this python environment (as detailed in the README), you will already have installed this. If not, you can install eumdac using;\n",
    "\n",
    "`conda install -c eumetsat eumdac`\n",
    "\n",
    "However, you can also find the source code on the <a href=\"https://gitlab.eumetsat.int/eumetlab/data-services/eumdac\">EUMETSAT gitlab</a>. Please visit the EUMETSAT user portal support pages for the <a href=\"https://user.eumetsat.int/resources/user-guides/data-store-detailed-guide\">Data Store</a> and <a href=\"https://user.eumetsat.int/resources/user-guides/eumetsat-data-access-client-eumdac-guide\">eumdac</a> for more information.\n",
    "\n",
    "In order to allow us to download data from the Data Store via API, we need to provide our credentials. We can do this in two ways; either by creating a file called `.eumdac/credentials` in our home directory (*option 1 - recommended*) or by supplying our credentials directly in this script (*option 2*). \n",
    "\n",
    "#### Option 1: creating  `.eumdac/credentials` file in our home directory\n",
    "\n",
    "For most computer systems the home directory can be found at the path \\user\\username, /users/username, or /home/username depending on your operating system. In side this folder we need to create a folder called `.eumdac` (the dot is important) and within that a file called `credentials` (with no extension).\n",
    "\n",
    "In this file we need to add the following information exactly as follows;\n",
    "\n",
    "```\n",
    "<your_consumer_key>,<your_consumer_secret>\n",
    "```\n",
    "\n",
    "You must replace `<your_consumer_key>` and `<your_consumer_secret>` with the information you extract from https://api.eumetsat.int/api-key/. You will need a <a href=\"https://eoportal.eumetsat.int/\">EUMETSAT Earth Observation Portal account</a> to access this link, and in order to see the information you must click the \"Show hidden fields\" button at the bottom of the page. <b>To help with this step, we have made a supporting notebook that will create this file for you. You can find it <a href=\"../working-with-python/API_authentication.ipynb\">here</a>, provided you cloned this repository with it's submodules, as detailed in the README.</b>\n",
    "\n",
    "*Note: your key and secret are permanent, so you only need to do this once, but you should take care to never share them*\n",
    "\n",
    "Once you have done this, you can read in your credentials using the commands in the following cell. These will be used to generate a time-limited token, which will refresh itself when it expires."
   ]
  },
  {
   "cell_type": "markdown",
   "id": "dc361cff-3c42-47b7-a169-060a6b0967fb",
   "metadata": {},
   "source": [
    "Before we use the Data Store to download data, we must first authenticate our access and retrieve an access token."
   ]
  },
  {
   "cell_type": "code",
   "execution_count": 4,
   "id": "3ceb9f6e-1d60-40e4-b4c3-2d58fda3087b",
   "metadata": {},
   "outputs": [
    {
     "name": "stdout",
     "output_type": "stream",
     "text": [
      "This token 'bf28bd47-540e-3f62-867a-e5be0b32466d' expires 2025-07-23 09:53:57.153975\n"
     ]
    }
   ],
   "source": [
    "# load credentials\n",
    "credentials_file = os.path.join(os.path.expanduser(\"~\"),'.eumdac','credentials')\n",
    "credentials = Path(credentials_file).read_text().split(',')\n",
    "token = eumdac.AccessToken((credentials[0], credentials[1]))\n",
    "print(f\"This token '{token}' expires {token.expiration}\")\n",
    "\n",
    "# create data store object\n",
    "datastore = eumdac.DataStore(token)"
   ]
  },
  {
   "cell_type": "markdown",
   "id": "399c1296-66bb-43ba-8373-e34d29524af5",
   "metadata": {},
   "source": [
    "#### Option 2: provide credentials directly\n",
    "\n",
    "You can provide your credentials directly as follows;\n",
    "\n",
    "`token = eumdac.AccessToken((consumer_key, consumer_secret))`\n",
    "\n",
    "*Note: this method is convenient in the short term, but is not really recommended as you have to put your key and secret in this notebook, and run the risk of accidentally sharing them. This method also requires you to authenticate on a notebook-by-notebook basis.*\n",
    "\n",
    "Once we have a token (by either method described above) we can create a **datastore** 'object' that contains all the collections, and filter this list for those that are relevant to us. The code to the right of the colon is what will tell use the ID for the collection we are interested in."
   ]
  },
  {
   "cell_type": "code",
   "execution_count": 5,
   "id": "6b7b2a43-ad27-402f-adbc-3ba59ecc5fee",
   "metadata": {},
   "outputs": [],
   "source": [
    "# token = eumdac.AccessToken((\"<your_consumer_key>\", \"<your_consumer_secret>\"))\n",
    "# print(f\"This token '{token}' expires {token.expiration}\")\n",
    "\n",
    "# # create data store object\n",
    "# datastore = eumdac.DataStore(token)"
   ]
  },
  {
   "cell_type": "markdown",
   "id": "0062de3e-5dce-4ee6-aacd-7faa02094fc9",
   "metadata": {},
   "source": [
    "Note: this method is convenient in the short term, but is not really recommended as you have to put your provided username and password in this notebook, and run the risk of accidentally sharing them. This method also requires you to authenticate on a notebook-by-notebook basis."
   ]
  },
  {
   "cell_type": "markdown",
   "id": "cbd636f7-8e46-4d5b-8f5b-a5718a25b80b",
   "metadata": {},
   "source": [
    "We will work with the **Level 3** <a href=\"\">Global Metop SST</a> collection throughout this notebook. The code for this  is `EO:EUM:DAT:METOP:GLB-SST-NC`."
   ]
  },
  {
   "cell_type": "code",
   "execution_count": 6,
   "id": "2f630eff-9eff-435e-b53a-6b42ef5071cc",
   "metadata": {},
   "outputs": [],
   "source": [
    "# set collection ID\n",
    "collectionID = 'EO:EUM:DAT:METOP:GLB-SST-NC'"
   ]
  },
  {
   "cell_type": "markdown",
   "id": "961f5bc6-cdbb-447d-a091-0ba80641e420",
   "metadata": {},
   "source": [
    "<div class=\"alert alert-info\" role=\"alert\">\n",
    "\n",
    "## <a id='section3'></a>3. Filtering by time\n",
    "[Back to top](#TOC-TOP)\n"
   ]
  },
  {
   "cell_type": "markdown",
   "id": "3c29eef8-0c60-4af1-b9dc-2393c4b7bf98",
   "metadata": {
    "tags": []
   },
   "source": [
    "## Filter by the lastest product\n",
    "\n",
    "It is possible to search the most recent product of the collection by using the function `.first()`"
   ]
  },
  {
   "cell_type": "code",
   "execution_count": 7,
   "id": "6551d3f0-0d4b-443a-91e2-3291c96bd157",
   "metadata": {},
   "outputs": [
    {
     "name": "stdout",
     "output_type": "stream",
     "text": [
      "S-OSI_-FRA_-MTOP-GLBSST_FIELD-202507220000Z\n"
     ]
    }
   ],
   "source": [
    "# Time filter\n",
    "selected_collection = datastore.get_collection(collectionID)\n",
    "latest = selected_collection.search().first()\n",
    "try:\n",
    "    print(latest)\n",
    "except eumdac.collection.CollectionError as error:\n",
    "    print(f\"Error related to the collection: '{error.msg}'\")\n",
    "except requests.exceptions.RequestException as error:\n",
    "    print(f\"Unexpected error: {error}\")"
   ]
  },
  {
   "cell_type": "markdown",
   "id": "5acabf0a-c2bf-44d3-9532-267d8eb45967",
   "metadata": {
    "tags": []
   },
   "source": [
    "## Filter with start and end date\n",
    "It is possible to select product from the collection filtering by time by adding a start and an end date to the function `.search(dtstart=date_start, dtend=end_date)`"
   ]
  },
  {
   "cell_type": "code",
   "execution_count": 8,
   "id": "b87f095f",
   "metadata": {},
   "outputs": [
    {
     "name": "stdout",
     "output_type": "stream",
     "text": [
      "S-OSI_-FRA_-MTOP-GLBSST_FIELD-202507150000Z\n"
     ]
    }
   ],
   "source": [
    "# space/time filter the collection for products\n",
    "selected_collection = datastore.get_collection(collectionID)\n",
    "# Select start and end date for search\n",
    "start = datetime.datetime(2025, 7, 15,0,0) # date format YYYY, MM, DD, HH, mm\n",
    "end = datetime.datetime(2025, 7, 15, 4, 0)  # date format YYYY, MM, DD, HH, mm\n",
    "products = selected_collection.search(geo=None, dtstart=start, dtend=end)\n",
    "for product in products:\n",
    "    try:\n",
    "        print(product)\n",
    "    except eumdac.collection.CollectionError as error:\n",
    "        print(f\"Error related to the collection: '{error.msg}'\")\n",
    "    except requests.exceptions.RequestException as error:\n",
    "        print(f\"Unexpected error: {error}\")"
   ]
  },
  {
   "cell_type": "markdown",
   "id": "24db8cc0-3733-4bec-9bfc-b6fd7eba6e8c",
   "metadata": {},
   "source": [
    "<div class=\"alert alert-info\" role=\"alert\">\n",
    "\n",
    "## <a id='section4'></a>4. Download products\n",
    "[Back to top](#TOC-TOP)"
   ]
  },
  {
   "cell_type": "markdown",
   "id": "545b7143-5c79-4487-bc50-4c0537f382cd",
   "metadata": {},
   "source": [
    "It is possible to download any component of a SAFE format file. This can be achieved by using iterating through the `entries` attribute of a product and string matching to your component of interest - in this case the manifest file. This method can be used to prune downloads for the enhanced, reduced or standard measurements only.\n",
    "\n",
    "*Note: It is not currently possible to download a single variable from **inside** a netCDF file*."
   ]
  },
  {
   "cell_type": "code",
   "execution_count": 9,
   "id": "a5f5846b-4863-4174-ad90-eb53018f2385",
   "metadata": {},
   "outputs": [],
   "source": [
    "download_dir = os.path.join(os.getcwd(), \"products\", \"L3_Global_Metop\")\n",
    "os.makedirs(download_dir, exist_ok=True)"
   ]
  },
  {
   "cell_type": "code",
   "execution_count": 10,
   "id": "887aaf50-7c1c-40c1-be24-d20b52ef3edb",
   "metadata": {},
   "outputs": [
    {
     "name": "stdout",
     "output_type": "stream",
     "text": [
      "Retrieving: S-OSI_-FRA_-MTOP-GLBSST_FIELD-202507150000Z\n",
      "Downloading S-OSI_-FRA_-MTOP-GLBSST_FIELD-202507150000Z.zip.\n",
      "Download of product S-OSI_-FRA_-MTOP-GLBSST_FIELD-202507150000Z.zip finished.\n",
      "Unzipping of product /data/dev_gwen/EO_lab/learn-osi-saf-sst/1_OSI_SAF_sst_introductory/products/L3_Global_Metop/S-OSI_-FRA_-MTOP-GLBSST_FIELD-202507150000Z.zip finished.\n"
     ]
    }
   ],
   "source": [
    "for product_id in products:\n",
    "    print(f\"Retrieving: {product_id}\")    \n",
    "\n",
    "    # selected_collection = datastore.get_collection(collection_id)\n",
    "    selected_product = datastore.get_product(product_id=product_id, collection_id=collectionID)\n",
    "\n",
    "    with selected_product.open() as fsrc, open(os.path.join(download_dir, fsrc.name), mode='wb') as fdst:\n",
    "        print(f'Downloading {fsrc.name}.')\n",
    "        shutil.copyfileobj(fsrc, fdst)\n",
    "        print(f'Download of product {fsrc.name} finished.')\n",
    "\n",
    "    with zipfile.ZipFile(fdst.name, 'r') as zip_ref:\n",
    "        for file in zip_ref.namelist():\n",
    "            if file.startswith(str(selected_product)):\n",
    "                zip_ref.extract(file, download_dir)\n",
    "        print(f'Unzipping of product {fdst.name} finished.')\n",
    "\n",
    "    os.remove(fdst.name)"
   ]
  },
  {
   "cell_type": "markdown",
   "id": "c3e20a16",
   "metadata": {},
   "source": [
    "You just downloaded the same data from the Eumetsat data store as the one you previously downloaded from OSI SAF FTP server at Ifremer. You will see the file name are completely different as Eumetsat data store is following its own **nomenclature**, while the files on the OSI SAF are named after the <a href=\"https://www.ghrsst.org/\">GHRSST</a> nomenclature. The data however are the same."
   ]
  },
  {
   "cell_type": "markdown",
   "id": "307a1c9e-77d9-427b-8dd9-e14faf1da42f",
   "metadata": {},
   "source": [
    "<hr>\n",
    "<a href=\"../Index.ipynb\" target=\"_blank\"><< Index</a>\n",
    "<br>\n",
    "<a href=\"./1_1b_OSI_SAF_SST_data_access_IFREMER_FTP.ipynb\" target=\"_blank\"><< Accessing Metop SST metagranule data through IFREMER opensearch queries</a>&nbsp;&nbsp;&nbsp;&nbsp;&nbsp;<a href=\"./1_2_OSI_SAF_SST_file_structure.ipynb\" target=\"_blank\">Exploring OSI SAF SST product structure >></a>\n",
    "<hr>\n",
    "<a href=\"https://gitlab.eumetsat.int/eumetlab/ocean\">View on GitLab</a> | <a href=\"https://training.eumetsat.int/\">EUMETSAT Training</a> | <a href=mailto:ops@eumetsat.int>Contact helpdesk for support </a> | <a href=mailto:training@eumetsat.int>Contact our training team to collaborate on and reuse this material</a></span></p>"
   ]
  }
 ],
 "metadata": {
  "author": "Olivier Membrive, Cecile Hernandez, Stephane Saux Picart, Ben Loveday, Hayley Evers-King, Gwenael Le Bras",
  "content_type": "Software & code",
  "data_access": "Data Store",
  "deployment": {
   "eumetsat": {
    "binder": {
     "link": "https://mybinder.org/v2/git/https%3A%2F%2Fgitlab.eumetsat.int%2Feumetlab%2Foceans%2Focean-training%2Fsensors%2Flearn-osi-saf-sst/HEAD?labpath=1_OSI_SAF_sst_introductory%2F1_1c_OSI_SAF_SST_data_access_Eumetsat_data_store.ipynb",
     "service_contact": "ops@eumetsat.int",
     "service_provider": "EUMETSAT"
    },
    "git": {
     "link": "https://gitlab.eumetsat.int/eumetlab/oceans/ocean-training/sensors/learn-osi-saf-sst/-/blob/main/1_OSI_SAF_sst_introductory/1_1c_OSI_SAF_SST_data_access_Eumetsat_data_store.ipynb",
     "service_contact": "ops@eumetsat.int",
     "service_provider": "EUMETSAT"
    }
   },
   "wekeo": {
    "git": {
     "link": " ",
     "service_contact": "ops@eumetsat.int",
     "service_provider": "EUMETSAT"
    },
    "url": {
     "link": " ",
     "service_contact": "ops@eumetsat.int",
     "service_provider": "EUMETSAT"
    }
   }
  },
  "description": "This Jupyter Notebook shows how to access global Metop sea surface temperature (SST) products using the EUMETSAT Data Store",
  "image": "../img/thumbs/1_1c_OSI_SAF_SST_data_access_Eumetsat_data_store_thumb.png",
  "kernelspec": {
   "display_name": "cmts_learn_osi_saf_sst",
   "language": "python",
   "name": "python3"
  },
  "language_info": {
   "codemirror_mode": {
    "name": "ipython",
    "version": 3
   },
   "file_extension": ".py",
   "mimetype": "text/x-python",
   "name": "python",
   "nbconvert_exporter": "python",
   "pygments_lexer": "ipython3",
   "version": "3.10.14"
  },
  "license": "MIT",
  "metadata_schema_version": "2.0.0",
  "originator": "EUMETSAT",
  "tags": {
   "data_provider": "EUMETSAT",
   "orbit": "LEO",
   "satellite": "Metop",
   "sensor": "AVHRR (Metop)",
   "service": "OSI SAF",
   "subtheme": [
    "Climate system monitoring - Ocean",
    "Ocean dynamics"
   ],
   "theme": "Marine",
   "variable": "Sea surface temperature"
  },
  "title": "Accessing OSI SAF SST products through the EUMETSAT Data Store",
  "version": "2.0.0",
  "version_date": "2024-07-01"
 },
 "nbformat": 4,
 "nbformat_minor": 5
}
