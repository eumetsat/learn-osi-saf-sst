{
 "cells": [
  {
   "cell_type": "markdown",
   "metadata": {},
   "source": [
    "<img src='https://gitlab.eumetsat.int/eumetlab/oceans/ocean-training/tools/frameworks/-/raw/main/img/OSI-SAF_banner.png' align='right' width='100%'/>"
   ]
  },
  {
   "cell_type": "markdown",
   "metadata": {},
   "source": [
    "<a href=\"../Index.ipynb\" target=\"_blank\"><< Index</a>\n",
    "<br>\n",
    "<a href=\"./1_1a_OSI_SAF_SST_data_access_IFREMER_Opensearch.ipynb\" target=\"_blank\"><< Accessing Metop SST metagranule data through IFREMER opensearch queries</a>&nbsp;&nbsp;&nbsp;&nbsp;&nbsp;<a href=\"./1_1c_OSI_SAF_SST_data_access_Eumetsat_data_store.ipynb\" target=\"_blank\">Accessing data through Eumetsat data store >></a>"
   ]
  },
  {
   "cell_type": "markdown",
   "metadata": {},
   "source": [
    "<font color=\"#138D75\">**EUMETSAT OSI SAF Training Service**</font> <br>\n",
    "**Copyright:** 2024 EUMETSAT <br>\n",
    "**License:** MIT"
   ]
  },
  {
   "cell_type": "markdown",
   "metadata": {},
   "source": [
    "<html>\n",
    "  <div style=\"width:100%\">\n",
    "    <div style=\"float:left\"><a href=\"https://mybinder.org/v2/git/https%3A%2F%2Fgitlab.eumetsat.int%2Feumetlab%2Foceans%2Focean-training%2Fsensors%2Flearn-osi-saf-sst/HEAD?labpath=1_OSI_SAF_sst_introductory%2F1_1b_OSI_SAF_SST_data_access_IFREMER_FTP.ipynb\"><img src=\"https://mybinder.org/badge_logo.svg\" alt=\"Open in Binder\"></a></div>\n",
    "    <div style=\"float:left\"><p>&emsp;</p></div>\n",
    "  </div>\n",
    "</html>"
   ]
  },
  {
   "cell_type": "markdown",
   "metadata": {},
   "source": [
    "<div class=\"alert alert-block alert-success\">\n",
    "<h3>Learn OSI SAF sea surface temperature: Introductory</h3></div>"
   ]
  },
  {
   "cell_type": "markdown",
   "metadata": {},
   "source": [
    "<div class=\"alert alert-block alert-warning\">\n",
    "    \n",
    "<b>PREREQUISITES </b>\n",
    "    \n",
    "This notebook has the following prerequisites:\n",
    "- **<a href=\"https://osi-saf.eumetsat.int/register\" target=\"_blank\">A EUMETSAT OSI SAF account</a>** if you are using or plan to use the EUMETSAT OSI SAF data.\n",
    "\n",
    "There are no prerequisite notebooks for this module.\n",
    "</div>\n",
    "<hr>"
   ]
  },
  {
   "cell_type": "markdown",
   "metadata": {},
   "source": [
    "# 1.1b Accessing OSI SAF SST products through the IFREMER FTP server\n",
    "### Data used \n",
    "\n",
    "| Dataset | EUMETSAT collection ID | OSI SAF website description | OSI SAF identifier |\n",
    "|:-----------------:|:-----------------:|:-----------------:|:-----------------:|\n",
    "| Global Metop Sea Surface Temperature | EO:EUM:DAT:METOP:GLB-SST-NC | <a href=\"https://osi-saf.eumetsat.int/products/osi-201-b\" target=\"_blank\">Description</a>| OSI-201-b |\n",
    "| North Atlantic Regional Sea Surface Temperature | EO:EUM:DAT:MULT:OSSTNARN | <a href=\"https://osi-saf.eumetsat.int/products/osi-202-c\" target=\"_blank\">Description</a>| OSI-202-c |\n",
    "| Meteosat Sea Surface Temperature | EO:EUM:DAT:METEOSAT:OSIHSST-NC | <a href=\"https://osi-saf.eumetsat.int/products/osi-206-a\" target=\"_blank\">Description</a>| OSI-206-a | \n",
    "| GOES-East Sea Surface Temperature | EO:EUM:DAT:GOES:OSIHSST-NCC | <a href=\"https://osi-saf.eumetsat.int/products/osi-207-b\" target=\"_blank\">Description</a>| OSI-207-b |\n",
    "| MSG/SEVIRI Sea Surface Temperature data record | EO:EUM:DAT:MSG:OSI-250 | <a href=\"https://osi-saf.eumetsat.int/products/osi-250\" target=\"_blank\">Description</a>| OSI-250 | \n",
    "| Meteosat Indian Ocean Sea Surface Temperature | - | <a href=\"https://osi-saf.eumetsat.int/products/osi-io-sst\" target=\"_blank\">Description</a>| OSI-IO-sst |\n",
    "\n",
    "\n",
    "### Learning outcomes\n",
    "\n",
    "At the end of this notebook you will know;\n",
    "* How to download different OSI SAF sea surface temperature (SST) products using FTP access\n",
    "\n",
    "### Outline\n",
    "\n",
    "Data from OSI SAF is available through multiple sources. Here we will guide you through FTP access to OSI SAF SST Data.\n",
    "\n",
    "<div class=\"alert alert-info\" role=\"alert\">\n",
    "\n",
    "## <a id='TOC-TOP'></a>Contents\n",
    "\n",
    "</div>\n",
    "    \n",
    " 1. [Creating our workspace](#section1)\n",
    " 1. [Setting login information](#section2)\n",
    " 1. [Downloading via FTP requests](#section3)\n",
    "\n",
    "<hr>"
   ]
  },
  {
   "cell_type": "markdown",
   "metadata": {},
   "source": [
    "<div class=\"alert alert-info\" role=\"alert\">\n",
    "\n",
    "## <a id='section1'></a>1. Creating the workspace\n",
    "[Back to top](#TOC-TOP)\n",
    "\n",
    "</div>\n",
    "\n",
    "We begin by importing all of the libraries that we need to run this notebook. If you have built your python using the environment file provided in this repository, then you should have everything you need. For more information on building environment, please see the repository **<a href=\"../README.md\" target=\"_blank\">README</a>**."
   ]
  },
  {
   "cell_type": "code",
   "execution_count": 1,
   "metadata": {},
   "outputs": [],
   "source": [
    "# library imports \n",
    "import os           # a library that allows to access to basic operating system commands like making directories\n",
    "import json         # a library that helps with JSON format files\n",
    "import ftplib       # a library that supports FTP protocol use\n",
    "import warnings     # a library that controls python warnings\n",
    "import datetime     # a library that controls dates and hours\n",
    "warnings.filterwarnings('ignore')"
   ]
  },
  {
   "cell_type": "markdown",
   "metadata": {},
   "source": [
    "Next we will create a download directory to store the products we will download in this notebook."
   ]
  },
  {
   "cell_type": "code",
   "execution_count": 2,
   "metadata": {},
   "outputs": [],
   "source": [
    "download_dir = os.path.join(os.getcwd(), \"products\")\n",
    "os.makedirs(download_dir, exist_ok=True)"
   ]
  },
  {
   "cell_type": "markdown",
   "metadata": {},
   "source": [
    "<div class=\"alert alert-info\" role=\"alert\">\n",
    "\n",
    "## <a id='section2'></a>2. Setting login information\n",
    "[Back to top](#TOC-TOP)\n",
    "\n",
    "</div>\n",
    "\n",
    "We will access OSI SAF data from the OSI SAF Lower-Mid-Latitude Centre FTP server in the same way as in the <a href=\"./1_1a_OSI_SAF_SST_data_access_IFREMER_Opensearch.ipynb\" target=\"_blank\">previous chapter</a>.\n",
    "\n",
    "#### Option 1: creating  `.eumetsat_osi_saf_sst_credentials` in our home directory.\n",
    "\n",
    "If you created the `.eumetsat_osi_saf_sst_credentials` in the <a href=\"./1_1a_OSI_SAF_SST_data_access_IFREMER_Opensearch.ipynb\" target=\"_blank\">previous chapter</a>, you just need to execute the command in the following cell : the credentials to access the FTP server will be load from the file you previously created."
   ]
  },
  {
   "cell_type": "markdown",
   "metadata": {},
   "source": [
    "Reading credential information"
   ]
  },
  {
   "cell_type": "code",
   "execution_count": 3,
   "metadata": {},
   "outputs": [],
   "source": [
    "# read credentials\n",
    "with open(os.path.join(os.path.expanduser(\"~\"),'.eumetsat_osi_saf_sst_credentials')) as json_file:\n",
    "  credentials = json.load(json_file)"
   ]
  },
  {
   "cell_type": "markdown",
   "metadata": {},
   "source": [
    "Loading credentials"
   ]
  },
  {
   "cell_type": "code",
   "execution_count": 4,
   "metadata": {},
   "outputs": [],
   "source": [
    "username = credentials['username'] \n",
    "password = credentials['password']"
   ]
  },
  {
   "cell_type": "markdown",
   "metadata": {},
   "source": [
    "#### Option 2: provide credentials directly\n",
    "You can provide your credentials directly as follows; by uncommenting the following lines."
   ]
  },
  {
   "cell_type": "code",
   "execution_count": 5,
   "metadata": {},
   "outputs": [],
   "source": [
    "# username = \"anonymous\"\n",
    "# password = \"anonymous\""
   ]
  },
  {
   "cell_type": "markdown",
   "metadata": {},
   "source": [
    "You must replace <provided_username> and <provided_password> with the information provided to you after you have registered to the OSI SAF website and mentionned your interest in SST data.\n",
    "\n",
    "Once you have created an EUMETSAT OSI SAF account, the generic password and credentials to access OSI SAF Lower-Mid-Latitude  server should have been sent to you via email.\n",
    "\n",
    "Note: this method is convenient in the short term, but is not really recommended as you have to put your provided username and password in this notebook, and run the risk of accidentally sharing them. This method also requires you to authenticate on a notebook-by-notebook basis."
   ]
  },
  {
   "cell_type": "markdown",
   "metadata": {},
   "source": [
    "<div class=\"alert alert-info\" role=\"alert\">\n",
    "\n",
    "## <a id='section3'></a>3. Launch FTP requests\n",
    "[Back to top](#TOC-TOP)\n",
    "\n",
    "</div>"
   ]
  },
  {
   "cell_type": "markdown",
   "metadata": {
    "tags": []
   },
   "source": [
    "In this section, we will download different SST products from OSI-SAF. Each will be used in a different mapping section later on.\n",
    "\n",
    "### Global Metop Sea Surface Temperature :\n",
    "#### Satellite Metop B\n",
    "Let's start by creating a specific folder to hold the Global Metop Sea Surface products for satellite metop B"
   ]
  },
  {
   "cell_type": "code",
   "execution_count": 6,
   "metadata": {},
   "outputs": [],
   "source": [
    "download_dir = os.path.join(os.getcwd(), \"products\", \"global_GHRSST\")\n",
    "os.makedirs(download_dir, exist_ok=True)"
   ]
  },
  {
   "cell_type": "markdown",
   "metadata": {},
   "source": [
    "Set the download path"
   ]
  },
  {
   "cell_type": "code",
   "execution_count": 7,
   "metadata": {},
   "outputs": [],
   "source": [
    "# Select date\n",
    "Year, Month, Day = 2023, 7, 15"
   ]
  },
  {
   "cell_type": "code",
   "execution_count": 8,
   "metadata": {},
   "outputs": [],
   "source": [
    "day_of_year = \"{:03d}\".format(datetime.datetime(Year, Month, Day).timetuple().tm_yday) # Calcul the day number of the year\n",
    "Month_str = \"{:02d}\".format(Month)\n",
    "Day_str = \"{:02d}\".format(Day)\n",
    "\n",
    "path = '/ifremer/cersat/projects/osisaf/sst/l3c/global/glob_avhrr_metop_b/' + str(Year) + '/' + day_of_year + '/'\n",
    "filename = str(Year) + Month_str + Day_str + \\\n",
    "        '000000-OSISAF-L3C_GHRSST-SSTsubskin-AVHRR_SST_METOP_B_GLB-sstglb_metop01_'+ \\\n",
    "        str(Year) + Month_str + Day_str + '_000000-v02.0-fv01.0.nc'"
   ]
  },
  {
   "cell_type": "code",
   "execution_count": 9,
   "metadata": {},
   "outputs": [
    {
     "data": {
      "text/plain": [
       "'221 Goodbye.'"
      ]
     },
     "execution_count": 9,
     "metadata": {},
     "output_type": "execute_result"
    }
   ],
   "source": [
    "# connect ftp and download file\n",
    "ftp = ftplib.FTP(\"ftp.ifremer.fr\") \n",
    "ftp.login(username, password)\n",
    "ftp.cwd(path)\n",
    "ftp.retrbinary(\"RETR \" + filename, open(os.path.join(os.getcwd(), 'products', 'global_GHRSST', filename), 'wb').write)\n",
    "ftp.quit()"
   ]
  },
  {
   "cell_type": "markdown",
   "metadata": {
    "tags": []
   },
   "source": [
    "###  North Atlantic Regional Sea Surface Temperature:\n",
    "\n",
    "Let's start by creating a specific folder to hold the NAR Sea Surface Temperature products."
   ]
  },
  {
   "cell_type": "code",
   "execution_count": 10,
   "metadata": {},
   "outputs": [],
   "source": [
    "download_dir = os.path.join(os.getcwd(), \"products\", \"NAR\")\n",
    "os.makedirs(download_dir, exist_ok=True)"
   ]
  },
  {
   "cell_type": "markdown",
   "metadata": {},
   "source": [
    "NAR SST products are accessible from diverse type of satellite. We will use the examples **Noaa20** and **Metop-B**. The other data can be access by the same way as show on the following instruction."
   ]
  },
  {
   "cell_type": "markdown",
   "metadata": {
    "tags": []
   },
   "source": [
    "#### Noaa 20 data\n",
    "Let's start by creating a specific folder to hold the data from Noaa 20."
   ]
  },
  {
   "cell_type": "code",
   "execution_count": 11,
   "metadata": {},
   "outputs": [],
   "source": [
    "download_dir = os.path.join(os.getcwd(), \"products\", \"NAR\", \"Noaa20\")\n",
    "os.makedirs(download_dir, exist_ok=True)"
   ]
  },
  {
   "cell_type": "markdown",
   "metadata": {},
   "source": [
    "We set the download path where the datas are and we will chose a file in this path."
   ]
  },
  {
   "cell_type": "code",
   "execution_count": 12,
   "metadata": {},
   "outputs": [],
   "source": [
    "# Select date\n",
    "Year, Month, Day = 2023, 8, 12"
   ]
  },
  {
   "cell_type": "code",
   "execution_count": 13,
   "metadata": {},
   "outputs": [],
   "source": [
    "day_of_year = \"{:03d}\".format(datetime.datetime(Year, Month, Day).timetuple().tm_yday) # Calcul the day number of the year\n",
    "Month_str = \"{:02d}\".format(Month)\n",
    "Day_str = \"{:02d}\".format(Day)\n",
    "\n",
    "path = '/ifremer/cersat/projects/osisaf/sst/l3c/north_atlantic/nar_viirs_noaa_20/' + str(Year) + '/' + str(day_of_year)\n",
    "filename = str(Year) + Month_str + Day_str + \\\n",
    "        '010000-OSISAF-L3C_GHRSST-SSTsubskin-VIIRS_SST_NOAA20_NAR-sstnar_noaa20_' + \\\n",
    "        str(Year) + Month_str + Day_str + '_010000-v02.0-fv01.0.nc'"
   ]
  },
  {
   "cell_type": "code",
   "execution_count": 14,
   "metadata": {},
   "outputs": [
    {
     "data": {
      "text/plain": [
       "'221 Goodbye.'"
      ]
     },
     "execution_count": 14,
     "metadata": {},
     "output_type": "execute_result"
    }
   ],
   "source": [
    "# connect ftp and download file\n",
    "ftp = ftplib.FTP(\"ftp.ifremer.fr\") \n",
    "ftp.login(username, password)\n",
    "ftp.cwd(path)\n",
    "ftp.retrbinary(\"RETR \" + filename, open(os.path.join(os.getcwd(), 'products', 'NAR', 'Noaa20', filename), 'wb').write)\n",
    "ftp.quit()"
   ]
  },
  {
   "cell_type": "markdown",
   "metadata": {
    "tags": []
   },
   "source": [
    "#### Metop B data\n",
    "Let's start by creating a specific folder to hold the data from Metop B."
   ]
  },
  {
   "cell_type": "code",
   "execution_count": 15,
   "metadata": {},
   "outputs": [],
   "source": [
    "download_dir = os.path.join(os.getcwd(), \"products\", \"NAR\", \"MetopB\")\n",
    "os.makedirs(download_dir, exist_ok=True)"
   ]
  },
  {
   "cell_type": "markdown",
   "metadata": {},
   "source": [
    "We set the dowload path where the datas are and we will chose a file in this path."
   ]
  },
  {
   "cell_type": "code",
   "execution_count": 16,
   "metadata": {},
   "outputs": [],
   "source": [
    "# Select date\n",
    "Year, Month, Day = 2023, 6, 8"
   ]
  },
  {
   "cell_type": "code",
   "execution_count": 17,
   "metadata": {},
   "outputs": [],
   "source": [
    "day_of_year = \"{:03d}\".format(datetime.datetime(Year, Month, Day).timetuple().tm_yday) # Calcul the day number of the year\n",
    "Month_str = \"{:02d}\".format(Month)\n",
    "Day_str = \"{:02d}\".format(Day)\n",
    "\n",
    "path = '/ifremer/cersat/projects/osisaf/sst/l3c/north_atlantic/nar_avhrr_metop_b/' + str(Year) + '/' + day_of_year\n",
    "filename = str(Year) + Month_str + Day_str + \\\n",
    "        '100000-OSISAF-L3C_GHRSST-SSTsubskin-AVHRR_SST_METOP_B_NAR-sstnar_metop01_' + \\\n",
    "        str(Year) + Month_str + Day_str +'_100000-v02.0-fv01.0.nc'"
   ]
  },
  {
   "cell_type": "code",
   "execution_count": 18,
   "metadata": {},
   "outputs": [
    {
     "data": {
      "text/plain": [
       "'221 Goodbye.'"
      ]
     },
     "execution_count": 18,
     "metadata": {},
     "output_type": "execute_result"
    }
   ],
   "source": [
    "# connect ftp and download file\n",
    "ftp = ftplib.FTP(\"ftp.ifremer.fr\") \n",
    "ftp.login(username, password)\n",
    "ftp.cwd(path)\n",
    "ftp.retrbinary(\"RETR \" + filename, open(os.path.join(os.getcwd(), 'products', 'NAR', 'MetopB', filename), 'wb').write)\n",
    "ftp.quit()"
   ]
  },
  {
   "cell_type": "markdown",
   "metadata": {
    "tags": []
   },
   "source": [
    "### Meteosat Sea Surface Temperature :\n",
    "\n",
    "Let's start by creating a specific folder to hold the Meteosat Sea Surface Temperature products"
   ]
  },
  {
   "cell_type": "code",
   "execution_count": 19,
   "metadata": {
    "tags": []
   },
   "outputs": [],
   "source": [
    "download_dir = os.path.join(os.getcwd(), \"products\", \"meteosat\")\n",
    "os.makedirs(download_dir, exist_ok=True)"
   ]
  },
  {
   "cell_type": "markdown",
   "metadata": {
    "tags": []
   },
   "source": [
    "Set the download path"
   ]
  },
  {
   "cell_type": "code",
   "execution_count": 20,
   "metadata": {},
   "outputs": [],
   "source": [
    "# Select date\n",
    "Year, Month, Day = 2023, 6, 9"
   ]
  },
  {
   "cell_type": "code",
   "execution_count": 21,
   "metadata": {},
   "outputs": [],
   "source": [
    "day_of_year = \"{:03d}\".format(datetime.datetime(Year, Month, Day).timetuple().tm_yday) # Calcul the day number of the year\n",
    "Month_str = \"{:02d}\".format(Month)\n",
    "Day_str = \"{:02d}\".format(Day)\n",
    "\n",
    "path = '/ifremer/cersat/projects/osisaf/sst/l3c/east_atlantic_west_indian/meteosat/' + str(Year) + '/' + day_of_year\n",
    "filename = str(Year) + Month_str + Day_str + \\\n",
    "        '000000-OSISAF-L3C_GHRSST-SSTsubskin-SEVIRI_SST-ssteqc_meteosat10_' + \\\n",
    "        str(Year) + Month_str + Day_str + '_000000-v02.0-fv01.0.nc'"
   ]
  },
  {
   "cell_type": "code",
   "execution_count": 22,
   "metadata": {},
   "outputs": [
    {
     "data": {
      "text/plain": [
       "'221 Goodbye.'"
      ]
     },
     "execution_count": 22,
     "metadata": {},
     "output_type": "execute_result"
    }
   ],
   "source": [
    "# connect ftp and download file\n",
    "ftp = ftplib.FTP(\"ftp.ifremer.fr\") \n",
    "ftp.login(username, password)\n",
    "ftp.cwd(path)\n",
    "ftp.retrbinary(\"RETR \" + filename, open(os.path.join(os.getcwd(), 'products', 'meteosat', filename), 'wb').write)\n",
    "ftp.quit()"
   ]
  },
  {
   "cell_type": "markdown",
   "metadata": {
    "tags": []
   },
   "source": [
    "### GOES-East Sea Surface Temperature\n",
    "\n",
    "Let's start by creating a specific folder to hold the GOES-East Sea Surface Temperature products."
   ]
  },
  {
   "cell_type": "code",
   "execution_count": 23,
   "metadata": {},
   "outputs": [],
   "source": [
    "download_dir = os.path.join(os.getcwd(), \"products\", \"GOES-E\")\n",
    "os.makedirs(download_dir, exist_ok=True)"
   ]
  },
  {
   "cell_type": "markdown",
   "metadata": {},
   "source": [
    "We set the dowload path where the datas are and we will chose a file in this path."
   ]
  },
  {
   "cell_type": "code",
   "execution_count": 24,
   "metadata": {},
   "outputs": [],
   "source": [
    "# Select date\n",
    "Year, Month, Day = 2023, 6, 9"
   ]
  },
  {
   "cell_type": "code",
   "execution_count": 25,
   "metadata": {},
   "outputs": [],
   "source": [
    "day_of_year = \"{:03d}\".format(datetime.datetime(Year, Month, Day).timetuple().tm_yday) # Calcul the day number of the year\n",
    "Month_str = \"{:02d}\".format(Month)\n",
    "Day_str = \"{:02d}\".format(Day)\n",
    "\n",
    "path = '/ifremer/cersat/projects/osisaf/sst/l3c/west_atlantic_east_pacific/goes/'+ str(Year) + '/' + day_of_year\n",
    "filename = str(Year) + Month_str + Day_str + \\\n",
    "        '000000-OSISAF-L3C_GHRSST-SSTsubskin-GOES16-ssteqc_goes16_' + \\\n",
    "        str(Year) + Month_str + Day_str + '_000000-v02.0-fv01.0.nc'"
   ]
  },
  {
   "cell_type": "code",
   "execution_count": 26,
   "metadata": {},
   "outputs": [
    {
     "data": {
      "text/plain": [
       "'221 Goodbye.'"
      ]
     },
     "execution_count": 26,
     "metadata": {},
     "output_type": "execute_result"
    }
   ],
   "source": [
    "# connect ftp and download file\n",
    "ftp = ftplib.FTP(\"ftp.ifremer.fr\") \n",
    "ftp.login(username, password)\n",
    "ftp.cwd(path)\n",
    "ftp.retrbinary(\"RETR \" + filename, open(os.path.join(os.getcwd(), 'products', 'GOES-E', filename), 'wb').write)\n",
    "ftp.quit()"
   ]
  },
  {
   "cell_type": "markdown",
   "metadata": {
    "tags": []
   },
   "source": [
    "### MSG/SEVIRI Sea Surface Temperature data record\n",
    "\n",
    "Let's start by creating a specific folder to hold the MSG/SEVERI Sea Surface Temperature products.\\\n",
    "These products are available until 2012-12-31."
   ]
  },
  {
   "cell_type": "code",
   "execution_count": 27,
   "metadata": {},
   "outputs": [],
   "source": [
    "download_dir = os.path.join(os.getcwd(), \"products\", \"MSG_record\")\n",
    "os.makedirs(download_dir, exist_ok=True)"
   ]
  },
  {
   "cell_type": "markdown",
   "metadata": {},
   "source": [
    "We set the dowload path where the datas are and we will chose a file in this path."
   ]
  },
  {
   "cell_type": "code",
   "execution_count": 28,
   "metadata": {},
   "outputs": [],
   "source": [
    "# Select date\n",
    "Year, Month, Day = 2012, 12, 31"
   ]
  },
  {
   "cell_type": "code",
   "execution_count": 29,
   "metadata": {},
   "outputs": [],
   "source": [
    "Month_str = \"{:02d}\".format(Month)\n",
    "Day_str = \"{:02d}\".format(Day)\n",
    "\n",
    "path = '/ifremer/cersat/projects/osisaf/sst/l3c/east_atlantic_west_indian/meteosat_data_record/v1/' + str(Year) + '/' + Month_str + '/' + Day_str\n",
    "filename = str(Year) + Month_str + Day_str + \\\n",
    "        '000000-OSISAF-L3C_GHRSST-SSTsubskin-SEVIRI_SST-dr_ssteqc_meteosat09_' + \\\n",
    "        str(Year) + Month_str + Day_str + '_000000-v02.0-fv01.0.nc'"
   ]
  },
  {
   "cell_type": "code",
   "execution_count": 30,
   "metadata": {},
   "outputs": [
    {
     "data": {
      "text/plain": [
       "'221 Goodbye.'"
      ]
     },
     "execution_count": 30,
     "metadata": {},
     "output_type": "execute_result"
    }
   ],
   "source": [
    "# connect ftp and download file\n",
    "ftp = ftplib.FTP(\"ftp.ifremer.fr\") \n",
    "ftp.login(username, password)\n",
    "ftp.cwd(path)\n",
    "ftp.retrbinary(\"RETR \" + filename, open(os.path.join(os.getcwd(), 'products', 'MSG_record', filename), 'wb').write)\n",
    "ftp.quit()"
   ]
  },
  {
   "cell_type": "markdown",
   "metadata": {
    "tags": []
   },
   "source": [
    "### Meteosat Indian Ocean Sea Surface Temperature\n",
    "\n",
    "Let's start by creating a specific folder to hold the Meteosat Indian Ocean Sea Surface Temperature."
   ]
  },
  {
   "cell_type": "code",
   "execution_count": 31,
   "metadata": {},
   "outputs": [],
   "source": [
    "download_dir = os.path.join(os.getcwd(), \"products\", \"MSGIO\")\n",
    "os.makedirs(download_dir, exist_ok=True)"
   ]
  },
  {
   "cell_type": "markdown",
   "metadata": {},
   "source": [
    "We set the download path where the datas are and we will chose a file in this path."
   ]
  },
  {
   "cell_type": "code",
   "execution_count": 32,
   "metadata": {},
   "outputs": [],
   "source": [
    "# Select date\n",
    "Year, Month, Day = 2023, 6, 9"
   ]
  },
  {
   "cell_type": "code",
   "execution_count": 33,
   "metadata": {},
   "outputs": [],
   "source": [
    "day_of_year = \"{:03d}\".format(datetime.datetime(Year, Month, Day).timetuple().tm_yday) # Calcul the day number of the year\n",
    "Month_str = \"{:02d}\".format(Month)\n",
    "Day_str = \"{:02d}\".format(Day)\n",
    "\n",
    "path = '/ifremer/cersat/projects/osisaf/sst/l3c/indian/meteosat/' + str(Year) + '/' + day_of_year\n",
    "filename = str(Year) + Month_str + Day_str + \\\n",
    "        '000000-OSISAF-L3C_GHRSST-SSTsubskin-SEVIRI_IO_SST-ssteqc_meteosat09_' + \\\n",
    "        str(Year) + Month_str + Day_str + '_000000-v02.0-fv01.0.nc'"
   ]
  },
  {
   "cell_type": "code",
   "execution_count": 34,
   "metadata": {},
   "outputs": [
    {
     "data": {
      "text/plain": [
       "'221 Goodbye.'"
      ]
     },
     "execution_count": 34,
     "metadata": {},
     "output_type": "execute_result"
    }
   ],
   "source": [
    "# connect ftp and download file\n",
    "ftp = ftplib.FTP(\"ftp.ifremer.fr\") \n",
    "ftp.login(username, password)\n",
    "ftp.cwd(path)\n",
    "ftp.retrbinary(\"RETR \" + filename, open(os.path.join(os.getcwd(), 'products', 'MSGIO', filename), 'wb').write)\n",
    "ftp.quit()"
   ]
  },
  {
   "cell_type": "markdown",
   "metadata": {
    "tags": []
   },
   "source": [
    "### IASI Metop B Sea Surface Temperature\n",
    "\n",
    "Let's start by creating a specific folder to hold the IASI Metop B Sea Surface Temperature."
   ]
  },
  {
   "cell_type": "code",
   "execution_count": 35,
   "metadata": {},
   "outputs": [],
   "source": [
    "download_dir = os.path.join(os.getcwd(), \"products\", \"iasi\")\n",
    "os.makedirs(download_dir, exist_ok=True)"
   ]
  },
  {
   "cell_type": "code",
   "execution_count": 36,
   "metadata": {},
   "outputs": [],
   "source": [
    "# Select date\n",
    "Year, Month, Day = 2024, 1, 9"
   ]
  },
  {
   "cell_type": "code",
   "execution_count": 37,
   "metadata": {},
   "outputs": [],
   "source": [
    "day_of_year = \"{:03d}\".format(datetime.datetime(Year, Month, Day).timetuple().tm_yday) # Calcul the day number of the year\n",
    "Month_str = \"{:02d}\".format(Month)\n",
    "Day_str = \"{:02d}\".format(Day)\n",
    "\n",
    "path = '/ifremer/cersat/projects/osisaf/sst/l2p/global/iasi_metop_b/' + str(Year) + '/' + day_of_year"
   ]
  },
  {
   "cell_type": "code",
   "execution_count": 38,
   "metadata": {},
   "outputs": [
    {
     "data": {
      "text/plain": [
       "'221 Goodbye.'"
      ]
     },
     "execution_count": 38,
     "metadata": {},
     "output_type": "execute_result"
    }
   ],
   "source": [
    "# connect ftp and download file\n",
    "ftp = ftplib.FTP(\"ftp.ifremer.fr\") \n",
    "ftp.login(username, password)\n",
    "ftp.cwd(path)\n",
    "file = ftp.nlst()\n",
    "for filename in file:\n",
    "    ftp.retrbinary(\"RETR \" + filename, open(os.path.join(os.getcwd(), 'products', 'iasi', filename), 'wb').write)\n",
    "ftp.quit()"
   ]
  },
  {
   "cell_type": "markdown",
   "metadata": {},
   "source": [
    "<hr>\n",
    "<a href=\"../Index.ipynb\" target=\"_blank\"><< Index</a>\n",
    "<br>\n",
    "<a href=\"./1_1a_OSI_SAF_SST_data_access_IFREMER_Opensearch.ipynb\" target=\"_blank\"><< Accessing Metop SST metagranule data through IFREMER opensearch queries</a>&nbsp;&nbsp;&nbsp;&nbsp;&nbsp;<a href=\"./1_1c_OSI_SAF_SST_data_access_Eumetsat_data_store.ipynb\" target=\"_blank\">Accessing data through Eumetsat data store >></a>\n",
    "<hr>\n",
    "<a href=\"https://gitlab.eumetsat.int/eumetlab/ocean\">View on GitLab</a> | <a href=\"https://training.eumetsat.int/\">EUMETSAT Training</a> | <a href=mailto:ops@eumetsat.int>Contact helpdesk for support </a> | <a href=mailto:training@eumetsat.int>Contact our training team to collaborate on and reuse this material</a></span></p>"
   ]
  }
 ],
 "metadata": {
  "author": "Olivier Membrive, Cecile Hernandez, Stephane Saux Picart, Ben Loveday, Hayley Evers-King, Gwenael Le Bras",
  "content_type": "Software & code",
  "data_access": "SAF archive",
  "deployment": {
   "eumetsat": {
    "binder": {
     "link": "https://mybinder.org/v2/git/https%3A%2F%2Fgitlab.eumetsat.int%2Feumetlab%2Foceans%2Focean-training%2Fsensors%2Flearn-osi-saf-sst/HEAD?labpath=1_OSI_SAF_sst_introductory%2F1_1b_OSI_SAF_SST_data_access_IFREMER_FTP.ipynb",
     "service_contact": "ops@eumetsat.int",
     "service_provider": "EUMETSAT"
    },
    "git": {
     "link": "https://gitlab.eumetsat.int/eumetlab/oceans/ocean-training/sensors/learn-osi-saf-sst/-/blob/main/1_OSI_SAF_sst_introductory/1_1b_OSI_SAF_SST_data_access_IFREMER_FTP.ipynb",
     "service_contact": "ops@eumetsat.int",
     "service_provider": "EUMETSAT"
    }
   },
   "wekeo": {
    "git": {
     "link": " ",
     "service_contact": "ops@eumetsat.int",
     "service_provider": "EUMETSAT"
    },
    "url": {
     "link": " ",
     "service_contact": "ops@eumetsat.int",
     "service_provider": "EUMETSAT"
    }
   }
  },
  "description": "This Jupyter Notebook shows how to access Global Metop and Meteosat sea surface temperature (SST) files form IFREMER via FTP.",
  "image": "../img/thumbs/1_1b_OSI_SAF_SST_data_access_IFREMER_FTP_thumb.png",
  "kernelspec": {
   "display_name": "Python 3 (ipykernel)",
   "language": "python",
   "name": "python3"
  },
  "language_info": {
   "codemirror_mode": {
    "name": "ipython",
    "version": 3
   },
   "file_extension": ".py",
   "mimetype": "text/x-python",
   "name": "python",
   "nbconvert_exporter": "python",
   "pygments_lexer": "ipython3",
   "version": "3.10.16"
  },
  "license": "MIT",
  "metadata_schema_version": "2.0.0",
  "originator": "EUMETSAT",
  "tags": {
   "data_provider": "EUMETSAT",
   "orbit": ["LEO","GEO"],
   "satellite": [
    "Metop",
    "GOES",
    "MSG",
    "JPSS"
   ],
   "sensor": [
    "AVHRR (Metop)",
    "ABI (Goes)",
    "SEVIRI (MSG)",
    "VIIRS (JPSS)"
   ],
   "service": "Sea surface temperature",
   "subtheme": [
    "Climate system monitoring - Ocean",
    "Ocean dynamics"
   ],
   "theme": "Marine",
   "variable": "Sea surface temperature"
  },
  "title": "Accessing OSI SAF SST products through the IFREMER FTP server",
  "version": "2.0.0",
  "version_date": "2024-07-01"
 },
 "nbformat": 4,
 "nbformat_minor": 4
}
